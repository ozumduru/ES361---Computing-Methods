{
  "nbformat": 4,
  "nbformat_minor": 0,
  "metadata": {
    "colab": {
      "provenance": []
    },
    "kernelspec": {
      "name": "python3",
      "display_name": "Python 3"
    },
    "language_info": {
      "name": "python"
    }
  },
  "cells": [
    {
      "cell_type": "code",
      "source": [
        "import math\n",
        "from IPython.display import clear_output"
      ],
      "metadata": {
        "id": "W7SEgZUeNFgW"
      },
      "execution_count": null,
      "outputs": []
    },
    {
      "cell_type": "code",
      "execution_count": 20,
      "metadata": {
        "colab": {
          "base_uri": "https://localhost:8080/"
        },
        "id": "BGwTQwMIxRRv",
        "outputId": "191da7a7-7b3c-4f69-a52c-2a4a16e4a89c"
      },
      "outputs": [
        {
          "output_type": "stream",
          "name": "stdout",
          "text": [
            "\u001b[1mThe   text   from   chatGPT:\u001b[0mThe  sun  rose  over  the tranquil horizon,\n",
            "casting   a  golden  glow  upon  rolling  hills.  Birds  chirped  joyfully,\n",
            "announcing  the  arrival of a new day. The scent of blooming flowers filled\n",
            "the  air,  rejuvenating  the senses. People emerged from their homes, eager\n",
            "to  embrace  the opportunities that lay ahead. Children laughed and played,\n",
            "their  innocence  bringing  warmth  to  the  world. In bustling cities, the\n",
            "rhythm  of  life  quickened,  as  streets filled with purposeful footsteps.\n",
            "Dreams   took   flight,   fueled  by  ambition  and  determination.  Amidst\n",
            "challenges   and   uncertainties,   hope  prevailed,  inspiring  hearts  to\n",
            "persevere.  The  tapestry of existence unfolded, offering countless stories\n",
            "waiting to be written.\n"
          ]
        }
      ],
      "source": [
        "\n",
        "text = '\\033[1m'+'The text from chatGPT:'+'\\033[0m'+ open(\"text.txt\").read()\n",
        "wide = 75\n",
        "j=0\n",
        "while len(text) > wide:\n",
        "     index = text[:wide].rindex(' ')\n",
        "     lenn = len(text[:index].strip().split(\" \"))\n",
        "     text_list = text[:index].strip().split(\" \")\n",
        "     mod = (wide+lenn-index)%(lenn-1)\n",
        "     div = int((wide+lenn-index)/(lenn-1))\n",
        "     text2 = \"\"\n",
        "\n",
        "     for i in range(len(text_list)-1):\n",
        "\n",
        "       if j < 3:\n",
        "         if i < mod: \n",
        "           text2 += text_list[i].ljust(len(text_list[i])+div++2)\n",
        "         else:\n",
        "           text2 += text_list[i].ljust(len(text_list[i])+div+1)\n",
        "         j +=1 \n",
        "       else:\n",
        "         if i < mod:\n",
        "           text2 += text_list[i].ljust(len(text_list[i])+div+1)\n",
        "         else:\n",
        "           text2 += text_list[i].ljust(len(text_list[i])+div)\n",
        "     text2 += text_list[i+1]         \n",
        "     print(text2.strip())\n",
        "     text = text[index:]\n",
        "print(text.strip())\n",
        "\n"
      ]
    }
  ]
}