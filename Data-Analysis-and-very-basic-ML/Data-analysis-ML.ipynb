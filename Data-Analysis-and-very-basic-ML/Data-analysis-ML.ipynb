{
 "cells": [
  {
   "cell_type": "markdown",
   "metadata": {},
   "source": [
    "a public educational dataset shared by UK Open University.\n",
    "\n",
    "data:\n",
    "\n",
    "https://analyse.kmi.open.ac.uk/open_dataset \\\n",
    "https://www.kaggle.com/datasets/rocki37/open-university-learning-analytics-dataset"
   ]
  },
  {
   "cell_type": "code",
   "execution_count": 1,
   "metadata": {},
   "outputs": [],
   "source": [
    "import pandas as pd\n",
    "import numpy as np\n",
    "import matplotlib.pyplot as plt\n",
    "import seaborn as sns\n",
    "import pylab as pl\n",
    "import sklearn\n",
    "\n",
    "pd.options.mode.chained_assignment = None\n",
    "\n",
    "from pandas.core.common import flatten\n",
    "from sklearn.metrics import roc_auc_score\n",
    "from sklearn.neighbors import KNeighborsClassifier\n",
    "from sklearn.model_selection import cross_val_score\n",
    "from sklearn.linear_model import LogisticRegression\n",
    "from scipy.stats import logistic"
   ]
  },
  {
   "cell_type": "markdown",
   "metadata": {},
   "source": [
    "###  Courses Table ###"
   ]
  },
  {
   "cell_type": "markdown",
   "metadata": {},
   "source": [
    "“B” for the presentation starting in February \\\n",
    "“J” for the presentation starting in October."
   ]
  },
  {
   "cell_type": "code",
   "execution_count": 2,
   "metadata": {},
   "outputs": [
    {
     "name": "stdout",
     "output_type": "stream",
     "text": [
      "shape= (22, 3)\n"
     ]
    },
    {
     "data": {
      "text/html": [
       "<div>\n",
       "<style scoped>\n",
       "    .dataframe tbody tr th:only-of-type {\n",
       "        vertical-align: middle;\n",
       "    }\n",
       "\n",
       "    .dataframe tbody tr th {\n",
       "        vertical-align: top;\n",
       "    }\n",
       "\n",
       "    .dataframe thead th {\n",
       "        text-align: right;\n",
       "    }\n",
       "</style>\n",
       "<table border=\"1\" class=\"dataframe\">\n",
       "  <thead>\n",
       "    <tr style=\"text-align: right;\">\n",
       "      <th></th>\n",
       "      <th>code_module</th>\n",
       "      <th>code_presentation</th>\n",
       "      <th>module_presentation_length</th>\n",
       "    </tr>\n",
       "  </thead>\n",
       "  <tbody>\n",
       "    <tr>\n",
       "      <th>0</th>\n",
       "      <td>AAA</td>\n",
       "      <td>2013J</td>\n",
       "      <td>268</td>\n",
       "    </tr>\n",
       "    <tr>\n",
       "      <th>1</th>\n",
       "      <td>AAA</td>\n",
       "      <td>2014J</td>\n",
       "      <td>269</td>\n",
       "    </tr>\n",
       "    <tr>\n",
       "      <th>2</th>\n",
       "      <td>BBB</td>\n",
       "      <td>2013J</td>\n",
       "      <td>268</td>\n",
       "    </tr>\n",
       "    <tr>\n",
       "      <th>3</th>\n",
       "      <td>BBB</td>\n",
       "      <td>2014J</td>\n",
       "      <td>262</td>\n",
       "    </tr>\n",
       "    <tr>\n",
       "      <th>4</th>\n",
       "      <td>BBB</td>\n",
       "      <td>2013B</td>\n",
       "      <td>240</td>\n",
       "    </tr>\n",
       "  </tbody>\n",
       "</table>\n",
       "</div>"
      ],
      "text/plain": [
       "  code_module code_presentation  module_presentation_length\n",
       "0         AAA             2013J                         268\n",
       "1         AAA             2014J                         269\n",
       "2         BBB             2013J                         268\n",
       "3         BBB             2014J                         262\n",
       "4         BBB             2013B                         240"
      ]
     },
     "execution_count": 2,
     "metadata": {},
     "output_type": "execute_result"
    }
   ],
   "source": [
    "courses = pd.read_csv('dataset/courses.csv')\n",
    "\n",
    "print('shape=',courses.shape)\n",
    "courses.head()"
   ]
  },
  {
   "cell_type": "markdown",
   "metadata": {},
   "source": [
    "**1:** duplicate/missing values"
   ]
  },
  {
   "cell_type": "code",
   "execution_count": 3,
   "metadata": {},
   "outputs": [
    {
     "name": "stdout",
     "output_type": "stream",
     "text": [
      "missing values = 0\n",
      "duplicated values = 0\n"
     ]
    }
   ],
   "source": [
    "print('missing values =',courses.isna().sum().sum())\n",
    "print('duplicated values =',courses.duplicated().sum().sum())"
   ]
  },
  {
   "cell_type": "markdown",
   "metadata": {},
   "source": [
    "**2:** courses started in February vs October"
   ]
  },
  {
   "cell_type": "code",
   "execution_count": 4,
   "metadata": {},
   "outputs": [
    {
     "name": "stdout",
     "output_type": "stream",
     "text": [
      "October is more than February\n"
     ]
    }
   ],
   "source": [
    "february = courses.code_presentation.str.contains('B',regex=False)\n",
    "october = courses.code_presentation.str.contains('J',regex=False)\n",
    "\n",
    "feb_sum = february.sum()\n",
    "oct_sum = october.sum()\n",
    "\n",
    "if feb_sum > oct_sum :\n",
    "    print('February is more than October')\n",
    "elif feb_sum < oct_sum :\n",
    "    print('October is more than February')\n",
    "elif feb_sum == oct_sum :\n",
    "    print('October is equal February')"
   ]
  },
  {
   "cell_type": "markdown",
   "metadata": {},
   "source": [
    "**3:** courses that were offered two years consecutively in the same semester"
   ]
  },
  {
   "cell_type": "code",
   "execution_count": 5,
   "metadata": {},
   "outputs": [
    {
     "name": "stdout",
     "output_type": "stream",
     "text": [
      "Courses that were offered two years consecutively in February\n",
      "['BBB', 'DDD', 'FFF']\n",
      "Courses that were offered two years consecutively in October\n",
      "['AAA', 'BBB', 'DDD', 'EEE', 'FFF', 'GGG']\n",
      "they had not the same length\n"
     ]
    }
   ],
   "source": [
    "courses_feb = courses.code_module.loc[february]\n",
    "courses_oct = courses.code_module.loc[october]\n",
    "\n",
    "courses_feb_consecutively = courses_feb.loc[courses_feb.duplicated()]\n",
    "courses_oct_consecutively = courses_oct.loc[courses_oct.duplicated()]\n",
    "\n",
    "print('Courses that were offered two years consecutively in February')\n",
    "print(list(courses_feb_consecutively))\n",
    "print('Courses that were offered two years consecutively in October')\n",
    "print(list(courses_oct_consecutively))\n",
    "\n",
    "if courses_feb_consecutively.size == courses_oct_consecutively.size :\n",
    "    print('they had the same length')\n",
    "else :\n",
    "    print('they had not the same length')"
   ]
  },
  {
   "cell_type": "markdown",
   "metadata": {},
   "source": [
    "**4:** courses that were offered in two consecutive semesters of the same year"
   ]
  },
  {
   "cell_type": "code",
   "execution_count": 6,
   "metadata": {},
   "outputs": [
    {
     "name": "stdout",
     "output_type": "stream",
     "text": [
      "Courses that were offered two semesters consecutively in 2013\n",
      "['BBB', 'DDD', 'FFF']\n",
      "Courses that were offered two semesters consecutively in 2014\n",
      "['BBB', 'CCC', 'DDD', 'EEE', 'FFF', 'GGG']\n",
      "they had not the same length\n"
     ]
    }
   ],
   "source": [
    "courses_2013 = courses.code_presentation.str.contains('2013',regex=False)\n",
    "courses_2014 = courses.code_presentation.str.contains('2014',regex=False)\n",
    "\n",
    "courses_2013 = courses.code_module.loc[courses_2013]\n",
    "courses_2014 = courses.code_module.loc[courses_2014]\n",
    "\n",
    "courses_2013_consecutively = courses_2013.loc[courses_2013.duplicated()]\n",
    "courses_2014_consecutively = courses_2014.loc[courses_2014.duplicated()]\n",
    "\n",
    "print('Courses that were offered two semesters consecutively in 2013')\n",
    "print(list(courses_2013_consecutively))\n",
    "print('Courses that were offered two semesters consecutively in 2014')\n",
    "print(list(courses_2014_consecutively))\n",
    "\n",
    "if courses_2013_consecutively.size == courses_2014_consecutively.size :\n",
    "    print('they had the same length')\n",
    "else :\n",
    "    print('they had not the same length')"
   ]
  },
  {
   "cell_type": "markdown",
   "metadata": {},
   "source": [
    "### Student Info Table"
   ]
  },
  {
   "cell_type": "code",
   "execution_count": 7,
   "metadata": {},
   "outputs": [
    {
     "name": "stdout",
     "output_type": "stream",
     "text": [
      "shape= (32593, 12)\n"
     ]
    },
    {
     "data": {
      "text/html": [
       "<div>\n",
       "<style scoped>\n",
       "    .dataframe tbody tr th:only-of-type {\n",
       "        vertical-align: middle;\n",
       "    }\n",
       "\n",
       "    .dataframe tbody tr th {\n",
       "        vertical-align: top;\n",
       "    }\n",
       "\n",
       "    .dataframe thead th {\n",
       "        text-align: right;\n",
       "    }\n",
       "</style>\n",
       "<table border=\"1\" class=\"dataframe\">\n",
       "  <thead>\n",
       "    <tr style=\"text-align: right;\">\n",
       "      <th></th>\n",
       "      <th>code_module</th>\n",
       "      <th>code_presentation</th>\n",
       "      <th>id_student</th>\n",
       "      <th>gender</th>\n",
       "      <th>region</th>\n",
       "      <th>highest_education</th>\n",
       "      <th>imd_band</th>\n",
       "      <th>age_band</th>\n",
       "      <th>num_of_prev_attempts</th>\n",
       "      <th>studied_credits</th>\n",
       "      <th>disability</th>\n",
       "      <th>final_result</th>\n",
       "    </tr>\n",
       "  </thead>\n",
       "  <tbody>\n",
       "    <tr>\n",
       "      <th>0</th>\n",
       "      <td>AAA</td>\n",
       "      <td>2013J</td>\n",
       "      <td>11391</td>\n",
       "      <td>M</td>\n",
       "      <td>East Anglian Region</td>\n",
       "      <td>HE Qualification</td>\n",
       "      <td>90-100%</td>\n",
       "      <td>55&lt;=</td>\n",
       "      <td>0</td>\n",
       "      <td>240</td>\n",
       "      <td>N</td>\n",
       "      <td>Pass</td>\n",
       "    </tr>\n",
       "    <tr>\n",
       "      <th>1</th>\n",
       "      <td>AAA</td>\n",
       "      <td>2013J</td>\n",
       "      <td>28400</td>\n",
       "      <td>F</td>\n",
       "      <td>Scotland</td>\n",
       "      <td>HE Qualification</td>\n",
       "      <td>20-30%</td>\n",
       "      <td>35-55</td>\n",
       "      <td>0</td>\n",
       "      <td>60</td>\n",
       "      <td>N</td>\n",
       "      <td>Pass</td>\n",
       "    </tr>\n",
       "    <tr>\n",
       "      <th>2</th>\n",
       "      <td>AAA</td>\n",
       "      <td>2013J</td>\n",
       "      <td>30268</td>\n",
       "      <td>F</td>\n",
       "      <td>North Western Region</td>\n",
       "      <td>A Level or Equivalent</td>\n",
       "      <td>30-40%</td>\n",
       "      <td>35-55</td>\n",
       "      <td>0</td>\n",
       "      <td>60</td>\n",
       "      <td>Y</td>\n",
       "      <td>Withdrawn</td>\n",
       "    </tr>\n",
       "    <tr>\n",
       "      <th>3</th>\n",
       "      <td>AAA</td>\n",
       "      <td>2013J</td>\n",
       "      <td>31604</td>\n",
       "      <td>F</td>\n",
       "      <td>South East Region</td>\n",
       "      <td>A Level or Equivalent</td>\n",
       "      <td>50-60%</td>\n",
       "      <td>35-55</td>\n",
       "      <td>0</td>\n",
       "      <td>60</td>\n",
       "      <td>N</td>\n",
       "      <td>Pass</td>\n",
       "    </tr>\n",
       "    <tr>\n",
       "      <th>4</th>\n",
       "      <td>AAA</td>\n",
       "      <td>2013J</td>\n",
       "      <td>32885</td>\n",
       "      <td>F</td>\n",
       "      <td>West Midlands Region</td>\n",
       "      <td>Lower Than A Level</td>\n",
       "      <td>50-60%</td>\n",
       "      <td>0-35</td>\n",
       "      <td>0</td>\n",
       "      <td>60</td>\n",
       "      <td>N</td>\n",
       "      <td>Pass</td>\n",
       "    </tr>\n",
       "  </tbody>\n",
       "</table>\n",
       "</div>"
      ],
      "text/plain": [
       "  code_module code_presentation  id_student gender                region  \\\n",
       "0         AAA             2013J       11391      M   East Anglian Region   \n",
       "1         AAA             2013J       28400      F              Scotland   \n",
       "2         AAA             2013J       30268      F  North Western Region   \n",
       "3         AAA             2013J       31604      F     South East Region   \n",
       "4         AAA             2013J       32885      F  West Midlands Region   \n",
       "\n",
       "       highest_education imd_band age_band  num_of_prev_attempts  \\\n",
       "0       HE Qualification  90-100%     55<=                     0   \n",
       "1       HE Qualification   20-30%    35-55                     0   \n",
       "2  A Level or Equivalent   30-40%    35-55                     0   \n",
       "3  A Level or Equivalent   50-60%    35-55                     0   \n",
       "4     Lower Than A Level   50-60%     0-35                     0   \n",
       "\n",
       "   studied_credits disability final_result  \n",
       "0              240          N         Pass  \n",
       "1               60          N         Pass  \n",
       "2               60          Y    Withdrawn  \n",
       "3               60          N         Pass  \n",
       "4               60          N         Pass  "
      ]
     },
     "execution_count": 7,
     "metadata": {},
     "output_type": "execute_result"
    }
   ],
   "source": [
    "student_info = pd.read_csv('dataset/studentInfo.csv')\n",
    "student_info.imd_band.loc[student_info.imd_band.isin(['10-20'])] = '10-20%'\n",
    "\n",
    "print('shape=',student_info.shape)\n",
    "student_info.head()"
   ]
  },
  {
   "cell_type": "markdown",
   "metadata": {},
   "source": [
    "**1:** duplicate/missing values"
   ]
  },
  {
   "cell_type": "code",
   "execution_count": 8,
   "metadata": {},
   "outputs": [
    {
     "name": "stdout",
     "output_type": "stream",
     "text": [
      "dublicated rows= 0 \n",
      "\n",
      "na colums= imd_band    1111\n",
      "dtype: int64\n"
     ]
    }
   ],
   "source": [
    "print('dublicated rows=',student_info.duplicated().sum(),'\\n')\n",
    "print('na colums=',student_info.isna().sum().loc[~(student_info.isna().sum() ==0)])"
   ]
  },
  {
   "cell_type": "markdown",
   "metadata": {},
   "source": [
    "**2:** Categorical variables"
   ]
  },
  {
   "cell_type": "markdown",
   "metadata": {},
   "source": [
    "**2.1:** highest_education"
   ]
  },
  {
   "cell_type": "markdown",
   "metadata": {},
   "source": [
    "`Post Graduate Qualification` and `No Formal quals` counts are small so\n",
    "\n",
    "I  add `Post Graduate Qualification` to `HE Qualification` \\\n",
    "I  add `No Formal quals` to `Lower Than A level`\n",
    "\n",
    "I also add catogeries `1-2-3` for shorting level 1 is low level 3 is high level"
   ]
  },
  {
   "cell_type": "code",
   "execution_count": 9,
   "metadata": {},
   "outputs": [
    {
     "name": "stdout",
     "output_type": "stream",
     "text": [
      "A Level or Equivalent          14045\n",
      "Lower Than A Level             13158\n",
      "HE Qualification                4730\n",
      "No Formal quals                  347\n",
      "Post Graduate Qualification      313\n",
      "Name: highest_education, dtype: int64 \n",
      "\n",
      "2_A Level or Equivalent    14045\n",
      "1_Lower Than A Level       13505\n",
      "3_HE Qualification          5043\n",
      "Name: highest_education, dtype: int64\n"
     ]
    }
   ],
   "source": [
    "print(student_info.highest_education.value_counts(), '\\n')\n",
    "\n",
    "student_info.highest_education.replace(['No Formal quals'],['Lower Than A Level'],inplace=True)\n",
    "student_info.highest_education.replace(['Post Graduate Qualification'],['HE Qualification'],inplace=True)\n",
    "\n",
    "student_info.highest_education.replace(['Lower Than A Level','A Level or Equivalent','HE Qualification'],\n",
    "                                       ['1_Lower Than A Level','2_A Level or Equivalent','3_HE Qualification'],inplace=True)\n",
    "\n",
    "print(student_info.highest_education.value_counts())"
   ]
  },
  {
   "cell_type": "markdown",
   "metadata": {},
   "source": [
    "**2.2:** age_band"
   ]
  },
  {
   "cell_type": "markdown",
   "metadata": {},
   "source": [
    "`55<=` counts are small so I add it to `35-55`\n",
    "\n",
    "rename values `0-35` --> `35>=` and `35-55` --> `35<=`"
   ]
  },
  {
   "cell_type": "code",
   "execution_count": 10,
   "metadata": {
    "scrolled": true
   },
   "outputs": [
    {
     "name": "stdout",
     "output_type": "stream",
     "text": [
      "0-35     22944\n",
      "35-55     9433\n",
      "55<=       216\n",
      "Name: age_band, dtype: int64 \n",
      "\n",
      "35>=    22944\n",
      "35<=     9649\n",
      "Name: age_band, dtype: int64\n"
     ]
    }
   ],
   "source": [
    "print(student_info.age_band.value_counts(),'\\n')\n",
    "student_info.age_band.replace(['55<='],['35-55'],inplace=True)\n",
    "\n",
    "student_info.age_band.replace(['0-35','35-55'],['35>=','35<='],inplace=True)\n",
    "print(student_info.age_band.value_counts())\n"
   ]
  },
  {
   "cell_type": "markdown",
   "metadata": {},
   "source": [
    "**2.3:** imd_band"
   ]
  },
  {
   "cell_type": "markdown",
   "metadata": {},
   "source": [
    "bands counts are near but 10% difference is too small so I set difference 20%"
   ]
  },
  {
   "cell_type": "code",
   "execution_count": 11,
   "metadata": {},
   "outputs": [
    {
     "name": "stdout",
     "output_type": "stream",
     "text": [
      "0-10%      3311\n",
      "10-20%     3516\n",
      "20-30%     3654\n",
      "30-40%     3539\n",
      "40-50%     3256\n",
      "50-60%     3124\n",
      "60-70%     2905\n",
      "70-80%     2879\n",
      "80-90%     2762\n",
      "90-100%    2536\n",
      "Name: imd_band, dtype: int64 \n",
      "\n",
      "0-20%      6827\n",
      "20-40%     7193\n",
      "40-60%     6380\n",
      "60-80%     5784\n",
      "80-100%    5298\n",
      "Name: imd_band, dtype: int64 \n",
      "\n"
     ]
    }
   ],
   "source": [
    "print(student_info.imd_band.value_counts().sort_index(), '\\n')\n",
    "\n",
    "replacement_list = [(['0-10%','10-20%'],'0-20%'),\n",
    "                    (['20-30%','30-40%'],'20-40%'),\n",
    "                    (['40-50%','50-60%'],'40-60%'),\n",
    "                    (['60-70%','70-80%'],'60-80%'),\n",
    "                    (['80-90%','90-100%'],'80-100%')]\n",
    "\n",
    "student_info.imd_band.replace(['0-10%','20-30%','40-50%','60-70%','80-90%'],\n",
    "                              ['0-20%','20-40%','40-60%','60-80%','80-100%'],inplace=True)\n",
    "\n",
    "student_info.imd_band.replace(['10-20%','30-40%','50-60%','70-80%','90-100%'],\n",
    "                              ['0-20%','20-40%','40-60%','60-80%','80-100%'],inplace=True)\n",
    "\n",
    "\n",
    "print(student_info.imd_band.value_counts().sort_index(), '\\n')\n"
   ]
  },
  {
   "cell_type": "markdown",
   "metadata": {},
   "source": [
    "**2.4:** num_of_prev_attempts"
   ]
  },
  {
   "cell_type": "markdown",
   "metadata": {},
   "source": [
    "`1,2,3,4,5,6` attempts are much less than `0` attempts so I collect `1,2,3,4,5,6` to `1+`"
   ]
  },
  {
   "cell_type": "code",
   "execution_count": 12,
   "metadata": {},
   "outputs": [
    {
     "name": "stdout",
     "output_type": "stream",
     "text": [
      "0    28421\n",
      "1     3299\n",
      "2      675\n",
      "3      142\n",
      "4       39\n",
      "5       13\n",
      "6        4\n",
      "Name: num_of_prev_attempts, dtype: int64 \n",
      "\n",
      "0       28421\n",
      "GT 1     4172\n",
      "Name: num_of_prev_attempts, dtype: int64\n"
     ]
    }
   ],
   "source": [
    "print(student_info.num_of_prev_attempts.value_counts(),'\\n')\n",
    "\n",
    "student_info.num_of_prev_attempts.replace([1,2,3,4,5,6],'GT 1',inplace=True)\n",
    "print(student_info.num_of_prev_attempts.value_counts())\n"
   ]
  },
  {
   "cell_type": "markdown",
   "metadata": {},
   "source": [
    "**2.4:** Treating NA Values\\\n",
    "imd_band is connected region and highest education so I distrubute na values that imd_band distribution of region and highest education"
   ]
  },
  {
   "cell_type": "code",
   "execution_count": 13,
   "metadata": {},
   "outputs": [
    {
     "data": {
      "text/html": [
       "<div>\n",
       "<style scoped>\n",
       "    .dataframe tbody tr th:only-of-type {\n",
       "        vertical-align: middle;\n",
       "    }\n",
       "\n",
       "    .dataframe tbody tr th {\n",
       "        vertical-align: top;\n",
       "    }\n",
       "\n",
       "    .dataframe thead th {\n",
       "        text-align: right;\n",
       "    }\n",
       "</style>\n",
       "<table border=\"1\" class=\"dataframe\">\n",
       "  <thead>\n",
       "    <tr style=\"text-align: right;\">\n",
       "      <th></th>\n",
       "      <th>imd_band</th>\n",
       "      <th>not_na</th>\n",
       "      <th>is_na</th>\n",
       "    </tr>\n",
       "    <tr>\n",
       "      <th>region</th>\n",
       "      <th>highest_education</th>\n",
       "      <th></th>\n",
       "      <th></th>\n",
       "    </tr>\n",
       "  </thead>\n",
       "  <tbody>\n",
       "    <tr>\n",
       "      <th rowspan=\"3\" valign=\"top\">Ireland</th>\n",
       "      <th>1_Lower Than A Level</th>\n",
       "      <td>403</td>\n",
       "      <td>78</td>\n",
       "    </tr>\n",
       "    <tr>\n",
       "      <th>2_A Level or Equivalent</th>\n",
       "      <td>424</td>\n",
       "      <td>57</td>\n",
       "    </tr>\n",
       "    <tr>\n",
       "      <th>3_HE Qualification</th>\n",
       "      <td>91</td>\n",
       "      <td>131</td>\n",
       "    </tr>\n",
       "    <tr>\n",
       "      <th rowspan=\"2\" valign=\"top\">North Region</th>\n",
       "      <th>1_Lower Than A Level</th>\n",
       "      <td>449</td>\n",
       "      <td>288</td>\n",
       "    </tr>\n",
       "    <tr>\n",
       "      <th>2_A Level or Equivalent</th>\n",
       "      <td>543</td>\n",
       "      <td>173</td>\n",
       "    </tr>\n",
       "  </tbody>\n",
       "</table>\n",
       "</div>"
      ],
      "text/plain": [
       "imd_band                              not_na  is_na\n",
       "region       highest_education                     \n",
       "Ireland      1_Lower Than A Level        403     78\n",
       "             2_A Level or Equivalent     424     57\n",
       "             3_HE Qualification           91    131\n",
       "North Region 1_Lower Than A Level        449    288\n",
       "             2_A Level or Equivalent     543    173"
      ]
     },
     "execution_count": 13,
     "metadata": {},
     "output_type": "execute_result"
    }
   ],
   "source": [
    "na_count = pd.crosstab([student_info.region,student_info.highest_education], student_info.imd_band.isna())\n",
    "na_count.rename(columns={False:'not_na',True:'is_na'},inplace=True)\n",
    "\n",
    "na_count = na_count.loc[~na_count.is_na.isin([0])]\n",
    "na_count.head()"
   ]
  },
  {
   "cell_type": "code",
   "execution_count": 14,
   "metadata": {},
   "outputs": [
    {
     "data": {
      "text/html": [
       "<div>\n",
       "<style scoped>\n",
       "    .dataframe tbody tr th:only-of-type {\n",
       "        vertical-align: middle;\n",
       "    }\n",
       "\n",
       "    .dataframe tbody tr th {\n",
       "        vertical-align: top;\n",
       "    }\n",
       "\n",
       "    .dataframe thead th {\n",
       "        text-align: right;\n",
       "    }\n",
       "</style>\n",
       "<table border=\"1\" class=\"dataframe\">\n",
       "  <thead>\n",
       "    <tr style=\"text-align: right;\">\n",
       "      <th></th>\n",
       "      <th>imd_band</th>\n",
       "      <th>0-20%</th>\n",
       "      <th>20-40%</th>\n",
       "      <th>40-60%</th>\n",
       "      <th>60-80%</th>\n",
       "      <th>80-100%</th>\n",
       "    </tr>\n",
       "    <tr>\n",
       "      <th>region</th>\n",
       "      <th>highest_education</th>\n",
       "      <th></th>\n",
       "      <th></th>\n",
       "      <th></th>\n",
       "      <th></th>\n",
       "      <th></th>\n",
       "    </tr>\n",
       "  </thead>\n",
       "  <tbody>\n",
       "    <tr>\n",
       "      <th rowspan=\"3\" valign=\"top\">Ireland</th>\n",
       "      <th>1_Lower Than A Level</th>\n",
       "      <td>23.0</td>\n",
       "      <td>16.0</td>\n",
       "      <td>15.0</td>\n",
       "      <td>15.0</td>\n",
       "      <td>9.0</td>\n",
       "    </tr>\n",
       "    <tr>\n",
       "      <th>2_A Level or Equivalent</th>\n",
       "      <td>14.0</td>\n",
       "      <td>10.0</td>\n",
       "      <td>13.0</td>\n",
       "      <td>9.0</td>\n",
       "      <td>11.0</td>\n",
       "    </tr>\n",
       "    <tr>\n",
       "      <th>3_HE Qualification</th>\n",
       "      <td>14.0</td>\n",
       "      <td>17.0</td>\n",
       "      <td>15.0</td>\n",
       "      <td>49.0</td>\n",
       "      <td>36.0</td>\n",
       "    </tr>\n",
       "    <tr>\n",
       "      <th rowspan=\"2\" valign=\"top\">North Region</th>\n",
       "      <th>1_Lower Than A Level</th>\n",
       "      <td>119.0</td>\n",
       "      <td>78.0</td>\n",
       "      <td>40.0</td>\n",
       "      <td>38.0</td>\n",
       "      <td>13.0</td>\n",
       "    </tr>\n",
       "    <tr>\n",
       "      <th>2_A Level or Equivalent</th>\n",
       "      <td>68.0</td>\n",
       "      <td>37.0</td>\n",
       "      <td>27.0</td>\n",
       "      <td>28.0</td>\n",
       "      <td>13.0</td>\n",
       "    </tr>\n",
       "  </tbody>\n",
       "</table>\n",
       "</div>"
      ],
      "text/plain": [
       "imd_band                              0-20%  20-40%  40-60%  60-80%  80-100%\n",
       "region       highest_education                                              \n",
       "Ireland      1_Lower Than A Level      23.0    16.0    15.0    15.0      9.0\n",
       "             2_A Level or Equivalent   14.0    10.0    13.0     9.0     11.0\n",
       "             3_HE Qualification        14.0    17.0    15.0    49.0     36.0\n",
       "North Region 1_Lower Than A Level     119.0    78.0    40.0    38.0     13.0\n",
       "             2_A Level or Equivalent   68.0    37.0    27.0    28.0     13.0"
      ]
     },
     "execution_count": 14,
     "metadata": {},
     "output_type": "execute_result"
    }
   ],
   "source": [
    "na_count = na_count.is_na\n",
    "\n",
    "imd_dist = pd.crosstab([student_info.region,student_info.highest_education], student_info.imd_band).loc[na_count.index]\n",
    "imd_dist_ratio = imd_dist.apply(lambda x: x/x.sum(),axis=1)\n",
    "\n",
    "na_dist = imd_dist_ratio.apply(lambda x: x*np.array(na_count)).round()\n",
    "na_dist.iloc[:,2] += na_count-na_dist.sum(axis=1)\n",
    "na_dist.head()"
   ]
  },
  {
   "cell_type": "code",
   "execution_count": 15,
   "metadata": {},
   "outputs": [
    {
     "data": {
      "text/plain": [
       "region        highest_education      \n",
       "Ireland       1_Lower Than A Level       0.0\n",
       "              2_A Level or Equivalent    0.0\n",
       "              3_HE Qualification         0.0\n",
       "North Region  1_Lower Than A Level       0.0\n",
       "              2_A Level or Equivalent    0.0\n",
       "Name: difference, dtype: float64"
      ]
     },
     "execution_count": 15,
     "metadata": {},
     "output_type": "execute_result"
    }
   ],
   "source": [
    "pd.Series(na_count-na_dist.sum(axis=1),name='difference').head()"
   ]
  },
  {
   "cell_type": "code",
   "execution_count": 16,
   "metadata": {
    "scrolled": true
   },
   "outputs": [
    {
     "name": "stdout",
     "output_type": "stream",
     "text": [
      "na_dist_end is sorted. If I also short student_info.isna() data they are same \n",
      "\n"
     ]
    },
    {
     "data": {
      "text/html": [
       "<div>\n",
       "<style scoped>\n",
       "    .dataframe tbody tr th:only-of-type {\n",
       "        vertical-align: middle;\n",
       "    }\n",
       "\n",
       "    .dataframe tbody tr th {\n",
       "        vertical-align: top;\n",
       "    }\n",
       "\n",
       "    .dataframe thead th {\n",
       "        text-align: right;\n",
       "    }\n",
       "</style>\n",
       "<table border=\"1\" class=\"dataframe\">\n",
       "  <thead>\n",
       "    <tr style=\"text-align: right;\">\n",
       "      <th></th>\n",
       "      <th>region</th>\n",
       "      <th>highest_education</th>\n",
       "      <th>imd_band</th>\n",
       "    </tr>\n",
       "  </thead>\n",
       "  <tbody>\n",
       "    <tr>\n",
       "      <th>184</th>\n",
       "      <td>Ireland</td>\n",
       "      <td>1_Lower Than A Level</td>\n",
       "      <td>0-20%</td>\n",
       "    </tr>\n",
       "    <tr>\n",
       "      <th>578</th>\n",
       "      <td>Ireland</td>\n",
       "      <td>1_Lower Than A Level</td>\n",
       "      <td>0-20%</td>\n",
       "    </tr>\n",
       "    <tr>\n",
       "      <th>636</th>\n",
       "      <td>Ireland</td>\n",
       "      <td>1_Lower Than A Level</td>\n",
       "      <td>0-20%</td>\n",
       "    </tr>\n",
       "    <tr>\n",
       "      <th>1141</th>\n",
       "      <td>Ireland</td>\n",
       "      <td>1_Lower Than A Level</td>\n",
       "      <td>0-20%</td>\n",
       "    </tr>\n",
       "    <tr>\n",
       "      <th>3646</th>\n",
       "      <td>Ireland</td>\n",
       "      <td>1_Lower Than A Level</td>\n",
       "      <td>0-20%</td>\n",
       "    </tr>\n",
       "  </tbody>\n",
       "</table>\n",
       "</div>"
      ],
      "text/plain": [
       "       region     highest_education imd_band\n",
       "184   Ireland  1_Lower Than A Level    0-20%\n",
       "578   Ireland  1_Lower Than A Level    0-20%\n",
       "636   Ireland  1_Lower Than A Level    0-20%\n",
       "1141  Ireland  1_Lower Than A Level    0-20%\n",
       "3646  Ireland  1_Lower Than A Level    0-20%"
      ]
     },
     "execution_count": 16,
     "metadata": {},
     "output_type": "execute_result"
    }
   ],
   "source": [
    "na_dist_sec = na_dist.stack().reset_index().rename(columns={0:'na_count'})\n",
    "na_dist_sec = na_dist_sec[~(na_dist_sec.na_count == 0)]\n",
    "\n",
    "na_dist_end = pd.DataFrame(np.repeat(na_dist_sec.values,na_dist_sec.na_count,axis=0))\n",
    "na_dist_end.columns = na_dist_sec.columns\n",
    "na_dist_end.index = student_info.loc[student_info.imd_band.isna()].sort_values(['region','highest_education']).index\n",
    "na_dist_end.drop(['na_count'],axis=1,inplace=True)\n",
    "\n",
    "print('na_dist_end is sorted. If I also short student_info.isna() data they are same \\n')\n",
    "student_info.fillna(na_dist_end,inplace = True)\n",
    "na_dist_end.head()"
   ]
  },
  {
   "cell_type": "code",
   "execution_count": 17,
   "metadata": {},
   "outputs": [
    {
     "name": "stdout",
     "output_type": "stream",
     "text": [
      "na count is  0\n"
     ]
    },
    {
     "data": {
      "text/html": [
       "<div>\n",
       "<style scoped>\n",
       "    .dataframe tbody tr th:only-of-type {\n",
       "        vertical-align: middle;\n",
       "    }\n",
       "\n",
       "    .dataframe tbody tr th {\n",
       "        vertical-align: top;\n",
       "    }\n",
       "\n",
       "    .dataframe thead th {\n",
       "        text-align: right;\n",
       "    }\n",
       "</style>\n",
       "<table border=\"1\" class=\"dataframe\">\n",
       "  <thead>\n",
       "    <tr style=\"text-align: right;\">\n",
       "      <th></th>\n",
       "      <th>region</th>\n",
       "      <th>highest_education</th>\n",
       "      <th>imd_band</th>\n",
       "    </tr>\n",
       "  </thead>\n",
       "  <tbody>\n",
       "    <tr>\n",
       "      <th>184</th>\n",
       "      <td>Ireland</td>\n",
       "      <td>1_Lower Than A Level</td>\n",
       "      <td>0-20%</td>\n",
       "    </tr>\n",
       "    <tr>\n",
       "      <th>578</th>\n",
       "      <td>Ireland</td>\n",
       "      <td>1_Lower Than A Level</td>\n",
       "      <td>0-20%</td>\n",
       "    </tr>\n",
       "    <tr>\n",
       "      <th>636</th>\n",
       "      <td>Ireland</td>\n",
       "      <td>1_Lower Than A Level</td>\n",
       "      <td>0-20%</td>\n",
       "    </tr>\n",
       "    <tr>\n",
       "      <th>1141</th>\n",
       "      <td>Ireland</td>\n",
       "      <td>1_Lower Than A Level</td>\n",
       "      <td>0-20%</td>\n",
       "    </tr>\n",
       "    <tr>\n",
       "      <th>3646</th>\n",
       "      <td>Ireland</td>\n",
       "      <td>1_Lower Than A Level</td>\n",
       "      <td>0-20%</td>\n",
       "    </tr>\n",
       "  </tbody>\n",
       "</table>\n",
       "</div>"
      ],
      "text/plain": [
       "       region     highest_education imd_band\n",
       "184   Ireland  1_Lower Than A Level    0-20%\n",
       "578   Ireland  1_Lower Than A Level    0-20%\n",
       "636   Ireland  1_Lower Than A Level    0-20%\n",
       "1141  Ireland  1_Lower Than A Level    0-20%\n",
       "3646  Ireland  1_Lower Than A Level    0-20%"
      ]
     },
     "execution_count": 17,
     "metadata": {},
     "output_type": "execute_result"
    }
   ],
   "source": [
    "print('na count is ',student_info.isna().sum().sum())\n",
    "na_dist_end.head()\n",
    "student_info.loc[na_dist_end.head().index,['region','highest_education','imd_band']]"
   ]
  },
  {
   "cell_type": "markdown",
   "metadata": {},
   "source": [
    "**3:** Demographic Information and Performance Levels\n",
    "\n",
    "relationships between `final_result` and `highest education`,`imd_band`,`age_band` and `num_of_prev_attempts`"
   ]
  },
  {
   "cell_type": "markdown",
   "metadata": {},
   "source": [
    "Obviously seen that; \n",
    "\n",
    "When increase education level and and imd band, \\\n",
    "Distinction and Pass counts are incerase. Also, Fail and Withdrawn counts are decrease.\n",
    "\n",
    "When increase age and and num of prev attempts, \\\n",
    "Distinction and Pass counts are decrease. Also, Fail and Withdrawn counts are increase.\n",
    "\n"
   ]
  },
  {
   "cell_type": "code",
   "execution_count": 18,
   "metadata": {},
   "outputs": [
    {
     "data": {
      "text/plain": [
       "<AxesSubplot:title={'center':'num of prev attempts vs final result'}, xlabel='num_of_prev_attempts', ylabel='count'>"
      ]
     },
     "execution_count": 18,
     "metadata": {},
     "output_type": "execute_result"
    },
    {
     "data": {
      "image/png": "[encoded data removed]",
      "text/plain": [
       "<Figure size 1080x720 with 4 Axes>"
      ]
     },
     "metadata": {
      "needs_background": "light"
     },
     "output_type": "display_data"
    }
   ],
   "source": [
    "edu = pd.crosstab(student_info.highest_education, student_info.final_result).apply(lambda x: x*100/x.sum(),axis=1)\n",
    "imd = pd.crosstab(student_info.imd_band, student_info.final_result).apply(lambda x: x*100/x.sum(),axis=1)\n",
    "age = pd.crosstab(student_info.age_band, student_info.final_result).apply(lambda x: x*100/x.sum(),axis=1)\n",
    "attempt =pd.crosstab(student_info.num_of_prev_attempts, student_info.final_result).apply(lambda x: x*100/x.sum(),axis=1)\n",
    "\n",
    "fig, axes = plt.subplots(2,2)\n",
    "\n",
    "edu.plot(title='education level vs final result',ylabel='count',ax=axes[0,0],figsize=(15,10))\n",
    "imd.plot(title='imd_band vs final result',ylabel='count',ax=axes[0,1])\n",
    "age.plot(title='age vs final result',ylabel='count',ax=axes[1,0])\n",
    "attempt.plot(title='num of prev attempts vs final result',ylabel='count',ax=axes[1,1])"
   ]
  },
  {
   "cell_type": "markdown",
   "metadata": {},
   "source": [
    "###  Registration Table"
   ]
  },
  {
   "cell_type": "code",
   "execution_count": 19,
   "metadata": {},
   "outputs": [
    {
     "name": "stdout",
     "output_type": "stream",
     "text": [
      "shape= (32593, 5)\n"
     ]
    },
    {
     "data": {
      "text/html": [
       "<div>\n",
       "<style scoped>\n",
       "    .dataframe tbody tr th:only-of-type {\n",
       "        vertical-align: middle;\n",
       "    }\n",
       "\n",
       "    .dataframe tbody tr th {\n",
       "        vertical-align: top;\n",
       "    }\n",
       "\n",
       "    .dataframe thead th {\n",
       "        text-align: right;\n",
       "    }\n",
       "</style>\n",
       "<table border=\"1\" class=\"dataframe\">\n",
       "  <thead>\n",
       "    <tr style=\"text-align: right;\">\n",
       "      <th></th>\n",
       "      <th>code_module</th>\n",
       "      <th>code_presentation</th>\n",
       "      <th>id_student</th>\n",
       "      <th>date_registration</th>\n",
       "      <th>date_unregistration</th>\n",
       "    </tr>\n",
       "  </thead>\n",
       "  <tbody>\n",
       "    <tr>\n",
       "      <th>0</th>\n",
       "      <td>AAA</td>\n",
       "      <td>2013J</td>\n",
       "      <td>11391</td>\n",
       "      <td>-159.0</td>\n",
       "      <td>NaN</td>\n",
       "    </tr>\n",
       "    <tr>\n",
       "      <th>1</th>\n",
       "      <td>AAA</td>\n",
       "      <td>2013J</td>\n",
       "      <td>28400</td>\n",
       "      <td>-53.0</td>\n",
       "      <td>NaN</td>\n",
       "    </tr>\n",
       "    <tr>\n",
       "      <th>2</th>\n",
       "      <td>AAA</td>\n",
       "      <td>2013J</td>\n",
       "      <td>30268</td>\n",
       "      <td>-92.0</td>\n",
       "      <td>12.0</td>\n",
       "    </tr>\n",
       "    <tr>\n",
       "      <th>3</th>\n",
       "      <td>AAA</td>\n",
       "      <td>2013J</td>\n",
       "      <td>31604</td>\n",
       "      <td>-52.0</td>\n",
       "      <td>NaN</td>\n",
       "    </tr>\n",
       "    <tr>\n",
       "      <th>4</th>\n",
       "      <td>AAA</td>\n",
       "      <td>2013J</td>\n",
       "      <td>32885</td>\n",
       "      <td>-176.0</td>\n",
       "      <td>NaN</td>\n",
       "    </tr>\n",
       "  </tbody>\n",
       "</table>\n",
       "</div>"
      ],
      "text/plain": [
       "  code_module code_presentation  id_student  date_registration  \\\n",
       "0         AAA             2013J       11391             -159.0   \n",
       "1         AAA             2013J       28400              -53.0   \n",
       "2         AAA             2013J       30268              -92.0   \n",
       "3         AAA             2013J       31604              -52.0   \n",
       "4         AAA             2013J       32885             -176.0   \n",
       "\n",
       "   date_unregistration  \n",
       "0                  NaN  \n",
       "1                  NaN  \n",
       "2                 12.0  \n",
       "3                  NaN  \n",
       "4                  NaN  "
      ]
     },
     "execution_count": 19,
     "metadata": {},
     "output_type": "execute_result"
    }
   ],
   "source": [
    "student_registration = pd.read_csv('dataset/studentRegistration.csv')\n",
    "\n",
    "print('shape=',student_registration.shape)\n",
    "student_registration.head()"
   ]
  },
  {
   "cell_type": "markdown",
   "metadata": {},
   "source": [
    "**1:** conflicts between `studentRegistration.csv` and `studentInfo.csv` dataset in terms of `Withdrawal` status of `unregistered` students "
   ]
  },
  {
   "cell_type": "code",
   "execution_count": 20,
   "metadata": {},
   "outputs": [
    {
     "name": "stdout",
     "output_type": "stream",
     "text": [
      "Withdrawn    10063\n",
      "Fail             9\n",
      "Name: final_result, dtype: int64\n",
      "Withdrawn    10072\n",
      "Name: final_result, dtype: int64\n"
     ]
    },
    {
     "data": {
      "text/html": [
       "<div>\n",
       "<style scoped>\n",
       "    .dataframe tbody tr th:only-of-type {\n",
       "        vertical-align: middle;\n",
       "    }\n",
       "\n",
       "    .dataframe tbody tr th {\n",
       "        vertical-align: top;\n",
       "    }\n",
       "\n",
       "    .dataframe thead th {\n",
       "        text-align: right;\n",
       "    }\n",
       "</style>\n",
       "<table border=\"1\" class=\"dataframe\">\n",
       "  <thead>\n",
       "    <tr style=\"text-align: right;\">\n",
       "      <th></th>\n",
       "      <th>code_module</th>\n",
       "      <th>code_presentation</th>\n",
       "      <th>id_student</th>\n",
       "      <th>date_registration</th>\n",
       "      <th>date_unregistration</th>\n",
       "      <th>gender</th>\n",
       "      <th>region</th>\n",
       "      <th>highest_education</th>\n",
       "      <th>imd_band</th>\n",
       "      <th>age_band</th>\n",
       "      <th>num_of_prev_attempts</th>\n",
       "      <th>studied_credits</th>\n",
       "      <th>disability</th>\n",
       "      <th>final_result</th>\n",
       "    </tr>\n",
       "  </thead>\n",
       "  <tbody>\n",
       "    <tr>\n",
       "      <th>0</th>\n",
       "      <td>AAA</td>\n",
       "      <td>2013J</td>\n",
       "      <td>11391</td>\n",
       "      <td>-159.0</td>\n",
       "      <td>NaN</td>\n",
       "      <td>M</td>\n",
       "      <td>East Anglian Region</td>\n",
       "      <td>3_HE Qualification</td>\n",
       "      <td>80-100%</td>\n",
       "      <td>35&lt;=</td>\n",
       "      <td>0</td>\n",
       "      <td>240</td>\n",
       "      <td>N</td>\n",
       "      <td>Pass</td>\n",
       "    </tr>\n",
       "    <tr>\n",
       "      <th>1</th>\n",
       "      <td>AAA</td>\n",
       "      <td>2013J</td>\n",
       "      <td>28400</td>\n",
       "      <td>-53.0</td>\n",
       "      <td>NaN</td>\n",
       "      <td>F</td>\n",
       "      <td>Scotland</td>\n",
       "      <td>3_HE Qualification</td>\n",
       "      <td>20-40%</td>\n",
       "      <td>35&lt;=</td>\n",
       "      <td>0</td>\n",
       "      <td>60</td>\n",
       "      <td>N</td>\n",
       "      <td>Pass</td>\n",
       "    </tr>\n",
       "    <tr>\n",
       "      <th>2</th>\n",
       "      <td>AAA</td>\n",
       "      <td>2013J</td>\n",
       "      <td>30268</td>\n",
       "      <td>-92.0</td>\n",
       "      <td>12.0</td>\n",
       "      <td>F</td>\n",
       "      <td>North Western Region</td>\n",
       "      <td>2_A Level or Equivalent</td>\n",
       "      <td>20-40%</td>\n",
       "      <td>35&lt;=</td>\n",
       "      <td>0</td>\n",
       "      <td>60</td>\n",
       "      <td>Y</td>\n",
       "      <td>Withdrawn</td>\n",
       "    </tr>\n",
       "    <tr>\n",
       "      <th>3</th>\n",
       "      <td>AAA</td>\n",
       "      <td>2013J</td>\n",
       "      <td>31604</td>\n",
       "      <td>-52.0</td>\n",
       "      <td>NaN</td>\n",
       "      <td>F</td>\n",
       "      <td>South East Region</td>\n",
       "      <td>2_A Level or Equivalent</td>\n",
       "      <td>40-60%</td>\n",
       "      <td>35&lt;=</td>\n",
       "      <td>0</td>\n",
       "      <td>60</td>\n",
       "      <td>N</td>\n",
       "      <td>Pass</td>\n",
       "    </tr>\n",
       "    <tr>\n",
       "      <th>4</th>\n",
       "      <td>AAA</td>\n",
       "      <td>2013J</td>\n",
       "      <td>32885</td>\n",
       "      <td>-176.0</td>\n",
       "      <td>NaN</td>\n",
       "      <td>F</td>\n",
       "      <td>West Midlands Region</td>\n",
       "      <td>1_Lower Than A Level</td>\n",
       "      <td>40-60%</td>\n",
       "      <td>35&gt;=</td>\n",
       "      <td>0</td>\n",
       "      <td>60</td>\n",
       "      <td>N</td>\n",
       "      <td>Pass</td>\n",
       "    </tr>\n",
       "  </tbody>\n",
       "</table>\n",
       "</div>"
      ],
      "text/plain": [
       "  code_module code_presentation  id_student  date_registration  \\\n",
       "0         AAA             2013J       11391             -159.0   \n",
       "1         AAA             2013J       28400              -53.0   \n",
       "2         AAA             2013J       30268              -92.0   \n",
       "3         AAA             2013J       31604              -52.0   \n",
       "4         AAA             2013J       32885             -176.0   \n",
       "\n",
       "   date_unregistration gender                region        highest_education  \\\n",
       "0                  NaN      M   East Anglian Region       3_HE Qualification   \n",
       "1                  NaN      F              Scotland       3_HE Qualification   \n",
       "2                 12.0      F  North Western Region  2_A Level or Equivalent   \n",
       "3                  NaN      F     South East Region  2_A Level or Equivalent   \n",
       "4                  NaN      F  West Midlands Region     1_Lower Than A Level   \n",
       "\n",
       "  imd_band age_band num_of_prev_attempts  studied_credits disability  \\\n",
       "0  80-100%     35<=                    0              240          N   \n",
       "1   20-40%     35<=                    0               60          N   \n",
       "2   20-40%     35<=                    0               60          Y   \n",
       "3   40-60%     35<=                    0               60          N   \n",
       "4   40-60%     35>=                    0               60          N   \n",
       "\n",
       "  final_result  \n",
       "0         Pass  \n",
       "1         Pass  \n",
       "2    Withdrawn  \n",
       "3         Pass  \n",
       "4         Pass  "
      ]
     },
     "execution_count": 20,
     "metadata": {},
     "output_type": "execute_result"
    }
   ],
   "source": [
    "registrations = student_registration.merge(student_info)\n",
    "\n",
    "print(registrations.final_result[registrations.date_unregistration.notna()].value_counts())\n",
    "\n",
    "registrations.final_result.loc[registrations.date_unregistration.notna()] = 'Withdrawn'\n",
    "\n",
    "print(registrations.final_result[registrations.date_unregistration.notna()].value_counts())\n",
    "registrations.head()"
   ]
  },
  {
   "cell_type": "markdown",
   "metadata": {},
   "source": [
    "**2:** Categorize students based on the day they registered for a course."
   ]
  },
  {
   "cell_type": "code",
   "execution_count": 21,
   "metadata": {},
   "outputs": [
    {
     "name": "stdout",
     "output_type": "stream",
     "text": [
      "[-322.0, -176.0, -30, 10, 88.5, 167.0]\n"
     ]
    },
    {
     "data": {
      "text/plain": [
       "0         early birds\n",
       "1         early birds\n",
       "2         early birds\n",
       "3         early birds\n",
       "4    Very early birds\n",
       "Name: date_registration, dtype: category\n",
       "Categories (5, object): ['Very early birds' < 'early birds' < 'in_time' < 'late-comers' < 'very late-comers']"
      ]
     },
     "execution_count": 21,
     "metadata": {},
     "output_type": "execute_result"
    }
   ],
   "source": [
    "perf_groups = [\"Very early birds\",\"early birds\",'in_time',\"late-comers\",\"very late-comers\"]\n",
    "\n",
    "data = registrations.date_registration.copy()\n",
    "bins = [data.min(), (data.min()-30)/2, -30, 10, (data.max()+10)/2, data.max()]\n",
    "print(bins)\n",
    "\n",
    "\n",
    "cats_regist = pd.cut(registrations.date_registration, bins, labels= perf_groups, right=True)\n",
    "\n",
    "cats_regist.head()"
   ]
  },
  {
   "cell_type": "markdown",
   "metadata": {},
   "source": [
    "**3:** Categorize students based on the day they *unregistered* a course."
   ]
  },
  {
   "cell_type": "code",
   "execution_count": 22,
   "metadata": {},
   "outputs": [
    {
     "name": "stdout",
     "output_type": "stream",
     "text": [
      "[-365.0, -197.5, -30, 10, 227.0, 444.0]\n"
     ]
    },
    {
     "data": {
      "text/plain": [
       "0                  NaN\n",
       "1                  NaN\n",
       "2    late unregistered\n",
       "3                  NaN\n",
       "4                  NaN\n",
       "Name: date_unregistration, dtype: category\n",
       "Categories (5, object): ['Very early unregistered' < 'early unregistered' < 'in-time unregistered' < 'late unregistered' < 'very late unregistered']"
      ]
     },
     "execution_count": 22,
     "metadata": {},
     "output_type": "execute_result"
    }
   ],
   "source": [
    "perf_groups = [\"Very early unregistered\",\"early unregistered\",\"in-time unregistered\",\n",
    "               \"late unregistered\",\"very late unregistered\"]\n",
    "\n",
    "data = registrations.date_unregistration.copy()\n",
    "bins = [data.min(), (data.min()-30)/2, -30, 10, (data.max()+10)/2, data.max()]\n",
    "print(bins)\n",
    "\n",
    "cats_unregist = pd.cut(registrations.date_unregistration, bins, labels= perf_groups, right=True)\n",
    "cats_unregist.head()"
   ]
  },
  {
   "cell_type": "markdown",
   "metadata": {},
   "source": [
    "**4:** relationship between students' registration/unregistration behaviour and the chosen demographic variables"
   ]
  },
  {
   "cell_type": "markdown",
   "metadata": {},
   "source": [
    "In region; \\\n",
    "Ireland and Wales register in-time more than other regions \\\n",
    "Ireland and Wales unregister late more than other regions \\\n",
    "Also, Scotland unregister late a litte more than other regions \n",
    "\n",
    "In imd_band, there is not significant difference \n",
    "\n",
    "In education level, HE qualificition register in-time a littre more than other education levels\n"
   ]
  },
  {
   "cell_type": "code",
   "execution_count": 23,
   "metadata": {},
   "outputs": [
    {
     "data": {
      "text/plain": [
       "<AxesSubplot:title={'center':'education level vs unregister date'}, xlabel='highest_education', ylabel='count'>"
      ]
     },
     "execution_count": 23,
     "metadata": {},
     "output_type": "execute_result"
    },
    {
     "data": {
      "image/png": "[encoded data removed]",
      "text/plain": [
       "<Figure size 1728x1296 with 6 Axes>"
      ]
     },
     "metadata": {
      "needs_background": "light"
     },
     "output_type": "display_data"
    }
   ],
   "source": [
    "edu_regist = pd.crosstab(registrations.highest_education, cats_regist).apply(lambda x: x*100/x.sum(),axis=1)\n",
    "edu_unregist = pd.crosstab(registrations.highest_education, cats_unregist).apply(lambda x: x*100/x.sum(),axis=1)\n",
    "\n",
    "imd_regist = pd.crosstab(registrations.imd_band, cats_regist).apply(lambda x: x*100/x.sum(),axis=1)\n",
    "imd_unregist = pd.crosstab(registrations.imd_band, cats_unregist).apply(lambda x: x*100/x.sum(),axis=1)\n",
    "\n",
    "region_regist = pd.crosstab(registrations.region, cats_regist).apply(lambda x: x*100/x.sum(),axis=1)\n",
    "region_unregist = pd.crosstab(registrations.region, cats_unregist).apply(lambda x: x*100/x.sum(),axis=1)\n",
    "\n",
    "fig, axes = plt.subplots(3,2)\n",
    "\n",
    "region_regist.plot(title='region vs register date',ylabel='count',ax=axes[0,0],figsize=(24,18))\n",
    "region_unregist.plot(title='region vs unregister date',ylabel='count',ax=axes[0,1])\n",
    "\n",
    "imd_regist.plot(title='imd_band vs register date',ylabel='count',ax=axes[1,0])\n",
    "imd_unregist.plot(title='imd_band vsunregister date',ylabel='count',ax=axes[1,1])\n",
    "\n",
    "edu_regist.plot(title='education level vs register date',ylabel='count',ax=axes[2,0])\n",
    "edu_unregist.plot(title='education level vs unregister date',ylabel='count',ax=axes[2,1])"
   ]
  },
  {
   "cell_type": "markdown",
   "metadata": {},
   "source": [
    "### Course Components Table"
   ]
  },
  {
   "cell_type": "code",
   "execution_count": 24,
   "metadata": {},
   "outputs": [
    {
     "name": "stdout",
     "output_type": "stream",
     "text": [
      "shape= (6364, 6)\n"
     ]
    },
    {
     "data": {
      "text/html": [
       "<div>\n",
       "<style scoped>\n",
       "    .dataframe tbody tr th:only-of-type {\n",
       "        vertical-align: middle;\n",
       "    }\n",
       "\n",
       "    .dataframe tbody tr th {\n",
       "        vertical-align: top;\n",
       "    }\n",
       "\n",
       "    .dataframe thead th {\n",
       "        text-align: right;\n",
       "    }\n",
       "</style>\n",
       "<table border=\"1\" class=\"dataframe\">\n",
       "  <thead>\n",
       "    <tr style=\"text-align: right;\">\n",
       "      <th></th>\n",
       "      <th>id_site</th>\n",
       "      <th>code_module</th>\n",
       "      <th>code_presentation</th>\n",
       "      <th>activity_type</th>\n",
       "      <th>week_from</th>\n",
       "      <th>week_to</th>\n",
       "    </tr>\n",
       "  </thead>\n",
       "  <tbody>\n",
       "    <tr>\n",
       "      <th>0</th>\n",
       "      <td>546943</td>\n",
       "      <td>AAA</td>\n",
       "      <td>2013J</td>\n",
       "      <td>resource</td>\n",
       "      <td>NaN</td>\n",
       "      <td>NaN</td>\n",
       "    </tr>\n",
       "    <tr>\n",
       "      <th>1</th>\n",
       "      <td>546712</td>\n",
       "      <td>AAA</td>\n",
       "      <td>2013J</td>\n",
       "      <td>oucontent</td>\n",
       "      <td>NaN</td>\n",
       "      <td>NaN</td>\n",
       "    </tr>\n",
       "    <tr>\n",
       "      <th>2</th>\n",
       "      <td>546998</td>\n",
       "      <td>AAA</td>\n",
       "      <td>2013J</td>\n",
       "      <td>resource</td>\n",
       "      <td>NaN</td>\n",
       "      <td>NaN</td>\n",
       "    </tr>\n",
       "    <tr>\n",
       "      <th>3</th>\n",
       "      <td>546888</td>\n",
       "      <td>AAA</td>\n",
       "      <td>2013J</td>\n",
       "      <td>url</td>\n",
       "      <td>NaN</td>\n",
       "      <td>NaN</td>\n",
       "    </tr>\n",
       "    <tr>\n",
       "      <th>4</th>\n",
       "      <td>547035</td>\n",
       "      <td>AAA</td>\n",
       "      <td>2013J</td>\n",
       "      <td>resource</td>\n",
       "      <td>NaN</td>\n",
       "      <td>NaN</td>\n",
       "    </tr>\n",
       "  </tbody>\n",
       "</table>\n",
       "</div>"
      ],
      "text/plain": [
       "   id_site code_module code_presentation activity_type  week_from  week_to\n",
       "0   546943         AAA             2013J      resource        NaN      NaN\n",
       "1   546712         AAA             2013J     oucontent        NaN      NaN\n",
       "2   546998         AAA             2013J      resource        NaN      NaN\n",
       "3   546888         AAA             2013J           url        NaN      NaN\n",
       "4   547035         AAA             2013J      resource        NaN      NaN"
      ]
     },
     "execution_count": 24,
     "metadata": {},
     "output_type": "execute_result"
    }
   ],
   "source": [
    "moodle = pd.read_csv('dataset/moodle.csv')\n",
    "\n",
    "print('shape=',moodle.shape)\n",
    "moodle.head()"
   ]
  },
  {
   "cell_type": "markdown",
   "metadata": {},
   "source": [
    "**1:** some columns contain mainly missing values. Detect and drop them to save space in the memory. "
   ]
  },
  {
   "cell_type": "code",
   "execution_count": 25,
   "metadata": {},
   "outputs": [
    {
     "data": {
      "text/html": [
       "<div>\n",
       "<style scoped>\n",
       "    .dataframe tbody tr th:only-of-type {\n",
       "        vertical-align: middle;\n",
       "    }\n",
       "\n",
       "    .dataframe tbody tr th {\n",
       "        vertical-align: top;\n",
       "    }\n",
       "\n",
       "    .dataframe thead th {\n",
       "        text-align: right;\n",
       "    }\n",
       "</style>\n",
       "<table border=\"1\" class=\"dataframe\">\n",
       "  <thead>\n",
       "    <tr style=\"text-align: right;\">\n",
       "      <th></th>\n",
       "      <th>id_site</th>\n",
       "      <th>code_module</th>\n",
       "      <th>code_presentation</th>\n",
       "      <th>activity_type</th>\n",
       "    </tr>\n",
       "  </thead>\n",
       "  <tbody>\n",
       "    <tr>\n",
       "      <th>0</th>\n",
       "      <td>546943</td>\n",
       "      <td>AAA</td>\n",
       "      <td>2013J</td>\n",
       "      <td>resource</td>\n",
       "    </tr>\n",
       "    <tr>\n",
       "      <th>1</th>\n",
       "      <td>546712</td>\n",
       "      <td>AAA</td>\n",
       "      <td>2013J</td>\n",
       "      <td>oucontent</td>\n",
       "    </tr>\n",
       "    <tr>\n",
       "      <th>2</th>\n",
       "      <td>546998</td>\n",
       "      <td>AAA</td>\n",
       "      <td>2013J</td>\n",
       "      <td>resource</td>\n",
       "    </tr>\n",
       "    <tr>\n",
       "      <th>3</th>\n",
       "      <td>546888</td>\n",
       "      <td>AAA</td>\n",
       "      <td>2013J</td>\n",
       "      <td>url</td>\n",
       "    </tr>\n",
       "    <tr>\n",
       "      <th>4</th>\n",
       "      <td>547035</td>\n",
       "      <td>AAA</td>\n",
       "      <td>2013J</td>\n",
       "      <td>resource</td>\n",
       "    </tr>\n",
       "  </tbody>\n",
       "</table>\n",
       "</div>"
      ],
      "text/plain": [
       "   id_site code_module code_presentation activity_type\n",
       "0   546943         AAA             2013J      resource\n",
       "1   546712         AAA             2013J     oucontent\n",
       "2   546998         AAA             2013J      resource\n",
       "3   546888         AAA             2013J           url\n",
       "4   547035         AAA             2013J      resource"
      ]
     },
     "execution_count": 25,
     "metadata": {},
     "output_type": "execute_result"
    }
   ],
   "source": [
    "moodle.dropna(axis=1, inplace=True)\n",
    "moodle.head()"
   ]
  },
  {
   "cell_type": "markdown",
   "metadata": {},
   "source": [
    "**2:** top 5 popular course component (`activity_type`) across all courses. \\\n",
    "table of these popular components were included in each offering (`code_presentation`) of each course (`code_module`)."
   ]
  },
  {
   "cell_type": "markdown",
   "metadata": {},
   "source": [
    "one or two activity type of each course were mostly preferred in all 4 semesters. \\\n",
    "For example,\\\n",
    "table says that BBB courses resource is better than other 4 activity type because students mostly use resource."
   ]
  },
  {
   "cell_type": "code",
   "execution_count": 26,
   "metadata": {},
   "outputs": [
    {
     "data": {
      "text/html": [
       "<div>\n",
       "<style scoped>\n",
       "    .dataframe tbody tr th:only-of-type {\n",
       "        vertical-align: middle;\n",
       "    }\n",
       "\n",
       "    .dataframe tbody tr th {\n",
       "        vertical-align: top;\n",
       "    }\n",
       "\n",
       "    .dataframe thead th {\n",
       "        text-align: right;\n",
       "    }\n",
       "</style>\n",
       "<table border=\"1\" class=\"dataframe\">\n",
       "  <thead>\n",
       "    <tr style=\"text-align: right;\">\n",
       "      <th></th>\n",
       "      <th>activity_type</th>\n",
       "      <th>resource</th>\n",
       "      <th>subpage</th>\n",
       "      <th>oucontent</th>\n",
       "      <th>url</th>\n",
       "      <th>forumng</th>\n",
       "    </tr>\n",
       "    <tr>\n",
       "      <th>code_module</th>\n",
       "      <th>code_presentation</th>\n",
       "      <th></th>\n",
       "      <th></th>\n",
       "      <th></th>\n",
       "      <th></th>\n",
       "      <th></th>\n",
       "    </tr>\n",
       "  </thead>\n",
       "  <tbody>\n",
       "    <tr>\n",
       "      <th rowspan=\"2\" valign=\"top\">AAA</th>\n",
       "      <th>2013J</th>\n",
       "      <td>95</td>\n",
       "      <td>6</td>\n",
       "      <td>68</td>\n",
       "      <td>18</td>\n",
       "      <td>15</td>\n",
       "    </tr>\n",
       "    <tr>\n",
       "      <th>2014J</th>\n",
       "      <td>93</td>\n",
       "      <td>6</td>\n",
       "      <td>68</td>\n",
       "      <td>20</td>\n",
       "      <td>6</td>\n",
       "    </tr>\n",
       "    <tr>\n",
       "      <th rowspan=\"3\" valign=\"top\">BBB</th>\n",
       "      <th>2013B</th>\n",
       "      <td>236</td>\n",
       "      <td>37</td>\n",
       "      <td>1</td>\n",
       "      <td>15</td>\n",
       "      <td>17</td>\n",
       "    </tr>\n",
       "    <tr>\n",
       "      <th>2013J</th>\n",
       "      <td>236</td>\n",
       "      <td>38</td>\n",
       "      <td>3</td>\n",
       "      <td>15</td>\n",
       "      <td>19</td>\n",
       "    </tr>\n",
       "    <tr>\n",
       "      <th>2014B</th>\n",
       "      <td>231</td>\n",
       "      <td>37</td>\n",
       "      <td>3</td>\n",
       "      <td>14</td>\n",
       "      <td>17</td>\n",
       "    </tr>\n",
       "  </tbody>\n",
       "</table>\n",
       "</div>"
      ],
      "text/plain": [
       "activity_type                  resource  subpage  oucontent  url  forumng\n",
       "code_module code_presentation                                            \n",
       "AAA         2013J                    95        6         68   18       15\n",
       "            2014J                    93        6         68   20        6\n",
       "BBB         2013B                   236       37          1   15       17\n",
       "            2013J                   236       38          3   15       19\n",
       "            2014B                   231       37          3   14       17"
      ]
     },
     "execution_count": 26,
     "metadata": {},
     "output_type": "execute_result"
    }
   ],
   "source": [
    "activity_list = list(moodle.activity_type.value_counts().index) # shorted\n",
    "top5 = activity_list[:5]\n",
    "\n",
    "moodle_new = pd.crosstab([moodle.code_module,moodle.code_presentation],moodle.activity_type)[activity_list]\n",
    "moodle_new[top5].head()"
   ]
  },
  {
   "cell_type": "markdown",
   "metadata": {},
   "source": [
    "###  Student Activity Data"
   ]
  },
  {
   "cell_type": "code",
   "execution_count": 27,
   "metadata": {},
   "outputs": [
    {
     "name": "stdout",
     "output_type": "stream",
     "text": [
      "shape= (10655280, 6)\n"
     ]
    },
    {
     "data": {
      "text/html": [
       "<div>\n",
       "<style scoped>\n",
       "    .dataframe tbody tr th:only-of-type {\n",
       "        vertical-align: middle;\n",
       "    }\n",
       "\n",
       "    .dataframe tbody tr th {\n",
       "        vertical-align: top;\n",
       "    }\n",
       "\n",
       "    .dataframe thead th {\n",
       "        text-align: right;\n",
       "    }\n",
       "</style>\n",
       "<table border=\"1\" class=\"dataframe\">\n",
       "  <thead>\n",
       "    <tr style=\"text-align: right;\">\n",
       "      <th></th>\n",
       "      <th>code_module</th>\n",
       "      <th>code_presentation</th>\n",
       "      <th>id_student</th>\n",
       "      <th>id_site</th>\n",
       "      <th>date</th>\n",
       "      <th>sum_click</th>\n",
       "    </tr>\n",
       "  </thead>\n",
       "  <tbody>\n",
       "    <tr>\n",
       "      <th>0</th>\n",
       "      <td>AAA</td>\n",
       "      <td>2013J</td>\n",
       "      <td>28400</td>\n",
       "      <td>546652</td>\n",
       "      <td>-10</td>\n",
       "      <td>4</td>\n",
       "    </tr>\n",
       "    <tr>\n",
       "      <th>1</th>\n",
       "      <td>AAA</td>\n",
       "      <td>2013J</td>\n",
       "      <td>28400</td>\n",
       "      <td>546652</td>\n",
       "      <td>-10</td>\n",
       "      <td>1</td>\n",
       "    </tr>\n",
       "    <tr>\n",
       "      <th>2</th>\n",
       "      <td>AAA</td>\n",
       "      <td>2013J</td>\n",
       "      <td>28400</td>\n",
       "      <td>546652</td>\n",
       "      <td>-10</td>\n",
       "      <td>1</td>\n",
       "    </tr>\n",
       "    <tr>\n",
       "      <th>3</th>\n",
       "      <td>AAA</td>\n",
       "      <td>2013J</td>\n",
       "      <td>28400</td>\n",
       "      <td>546614</td>\n",
       "      <td>-10</td>\n",
       "      <td>11</td>\n",
       "    </tr>\n",
       "    <tr>\n",
       "      <th>4</th>\n",
       "      <td>AAA</td>\n",
       "      <td>2013J</td>\n",
       "      <td>28400</td>\n",
       "      <td>546714</td>\n",
       "      <td>-10</td>\n",
       "      <td>1</td>\n",
       "    </tr>\n",
       "  </tbody>\n",
       "</table>\n",
       "</div>"
      ],
      "text/plain": [
       "  code_module code_presentation  id_student  id_site  date  sum_click\n",
       "0         AAA             2013J       28400   546652   -10          4\n",
       "1         AAA             2013J       28400   546652   -10          1\n",
       "2         AAA             2013J       28400   546652   -10          1\n",
       "3         AAA             2013J       28400   546614   -10         11\n",
       "4         AAA             2013J       28400   546714   -10          1"
      ]
     },
     "execution_count": 27,
     "metadata": {},
     "output_type": "execute_result"
    }
   ],
   "source": [
    "moodle_interact = pd.read_csv('dataset/studentMoodleInteract.csv')\n",
    "\n",
    "print('shape=',moodle_interact.shape)\n",
    "moodle_interact.head()"
   ]
  },
  {
   "cell_type": "markdown",
   "metadata": {},
   "source": [
    "**1:** the total number of clicks for each course per each semester delivered"
   ]
  },
  {
   "cell_type": "code",
   "execution_count": 28,
   "metadata": {},
   "outputs": [
    {
     "data": {
      "text/plain": [
       "<AxesSubplot:xlabel='code_module', ylabel='sum_click'>"
      ]
     },
     "execution_count": 28,
     "metadata": {},
     "output_type": "execute_result"
    },
    {
     "data": {
      "image/png": "[encoded data removed]",
      "text/plain": [
       "<Figure size 432x288 with 1 Axes>"
      ]
     },
     "metadata": {
      "needs_background": "light"
     },
     "output_type": "display_data"
    }
   ],
   "source": [
    "click_sum = moodle_interact.loc[:,['code_module','code_presentation','sum_click']].groupby(['code_module','code_presentation']).sum()\n",
    "sns.lineplot(data=click_sum, x=\"code_module\", y=\"sum_click\", hue=\"code_presentation\",marker=\"o\", linestyle='dashed')"
   ]
  },
  {
   "cell_type": "markdown",
   "metadata": {},
   "source": [
    "**2**: the courses in which the total number of clicks is higher in 2014 than 2013.\\\n",
    "If the course was taught two times in the same year take the average of both semesters to compare with the other year."
   ]
  },
  {
   "cell_type": "code",
   "execution_count": 29,
   "metadata": {},
   "outputs": [
    {
     "data": {
      "text/html": [
       "<div>\n",
       "<style scoped>\n",
       "    .dataframe tbody tr th:only-of-type {\n",
       "        vertical-align: middle;\n",
       "    }\n",
       "\n",
       "    .dataframe tbody tr th {\n",
       "        vertical-align: top;\n",
       "    }\n",
       "\n",
       "    .dataframe thead th {\n",
       "        text-align: right;\n",
       "    }\n",
       "</style>\n",
       "<table border=\"1\" class=\"dataframe\">\n",
       "  <thead>\n",
       "    <tr style=\"text-align: right;\">\n",
       "      <th>code_presentation</th>\n",
       "      <th>2013B</th>\n",
       "      <th>2013J</th>\n",
       "      <th>2014B</th>\n",
       "      <th>2014J</th>\n",
       "    </tr>\n",
       "    <tr>\n",
       "      <th>code_module</th>\n",
       "      <th></th>\n",
       "      <th></th>\n",
       "      <th></th>\n",
       "      <th></th>\n",
       "    </tr>\n",
       "  </thead>\n",
       "  <tbody>\n",
       "    <tr>\n",
       "      <th>AAA</th>\n",
       "      <td>0.0</td>\n",
       "      <td>648494.0</td>\n",
       "      <td>0.0</td>\n",
       "      <td>598158.0</td>\n",
       "    </tr>\n",
       "    <tr>\n",
       "      <th>BBB</th>\n",
       "      <td>1347911.0</td>\n",
       "      <td>1378656.0</td>\n",
       "      <td>833865.0</td>\n",
       "      <td>1673744.0</td>\n",
       "    </tr>\n",
       "    <tr>\n",
       "      <th>CCC</th>\n",
       "      <td>0.0</td>\n",
       "      <td>0.0</td>\n",
       "      <td>1889177.0</td>\n",
       "      <td>2792972.0</td>\n",
       "    </tr>\n",
       "    <tr>\n",
       "      <th>DDD</th>\n",
       "      <td>1387467.0</td>\n",
       "      <td>1757214.0</td>\n",
       "      <td>947657.0</td>\n",
       "      <td>1437751.0</td>\n",
       "    </tr>\n",
       "    <tr>\n",
       "      <th>EEE</th>\n",
       "      <td>0.0</td>\n",
       "      <td>1535953.0</td>\n",
       "      <td>832038.0</td>\n",
       "      <td>1616236.0</td>\n",
       "    </tr>\n",
       "    <tr>\n",
       "      <th>FFF</th>\n",
       "      <td>4220055.0</td>\n",
       "      <td>5116439.0</td>\n",
       "      <td>2975619.0</td>\n",
       "      <td>5281809.0</td>\n",
       "    </tr>\n",
       "    <tr>\n",
       "      <th>GGG</th>\n",
       "      <td>0.0</td>\n",
       "      <td>509091.0</td>\n",
       "      <td>425165.0</td>\n",
       "      <td>399628.0</td>\n",
       "    </tr>\n",
       "  </tbody>\n",
       "</table>\n",
       "</div>"
      ],
      "text/plain": [
       "code_presentation      2013B      2013J      2014B      2014J\n",
       "code_module                                                  \n",
       "AAA                      0.0   648494.0        0.0   598158.0\n",
       "BBB                1347911.0  1378656.0   833865.0  1673744.0\n",
       "CCC                      0.0        0.0  1889177.0  2792972.0\n",
       "DDD                1387467.0  1757214.0   947657.0  1437751.0\n",
       "EEE                      0.0  1535953.0   832038.0  1616236.0\n",
       "FFF                4220055.0  5116439.0  2975619.0  5281809.0\n",
       "GGG                      0.0   509091.0   425165.0   399628.0"
      ]
     },
     "execution_count": 29,
     "metadata": {},
     "output_type": "execute_result"
    }
   ],
   "source": [
    "sum_click_sem = click_sum.unstack().fillna(0).sum_click\n",
    "sum_click_sem"
   ]
  },
  {
   "cell_type": "code",
   "execution_count": 30,
   "metadata": {},
   "outputs": [
    {
     "name": "stdout",
     "output_type": "stream",
     "text": [
      "Courses that he total number of clicks is higher in 2014 than 2013:\n"
     ]
    },
    {
     "data": {
      "text/plain": [
       "['CCC', 'EEE', 'GGG']"
      ]
     },
     "execution_count": 30,
     "metadata": {},
     "output_type": "execute_result"
    }
   ],
   "source": [
    "print('Courses that he total number of clicks is higher in 2014 than 2013:')\n",
    "\n",
    "list(sum_click_sem.index.get_level_values('code_module')[sum_click_sem.loc[:,['2013B','2013J']].mean(axis=1)\n",
    "                                                         <\n",
    "                                                         sum_click_sem.loc[:,['2014B','2014J']].mean(axis=1)])"
   ]
  },
  {
   "cell_type": "markdown",
   "metadata": {},
   "source": [
    "**3:** resources were mostly clicked by the students."
   ]
  },
  {
   "cell_type": "code",
   "execution_count": 31,
   "metadata": {},
   "outputs": [
    {
     "name": "stdout",
     "output_type": "stream",
     "text": [
      "resource is higher than quiz:\n",
      "\n"
     ]
    },
    {
     "data": {
      "text/plain": [
       "code_module\n",
       "AAA    True\n",
       "BBB    True\n",
       "CCC    True\n",
       "DDD    True\n",
       "EEE    True\n",
       "FFF    True\n",
       "GGG    True\n",
       "dtype: bool"
      ]
     },
     "execution_count": 31,
     "metadata": {},
     "output_type": "execute_result"
    }
   ],
   "source": [
    "print('resource is higher than quiz:\\n')\n",
    "moodle_new.resource.unstack().fillna(0).sum(axis=1) > moodle_new.quiz.unstack().fillna(0).sum(axis=1)"
   ]
  },
  {
   "cell_type": "markdown",
   "metadata": {},
   "source": [
    "top5 activity type is almost top5 activty type of each course"
   ]
  },
  {
   "cell_type": "code",
   "execution_count": 32,
   "metadata": {},
   "outputs": [
    {
     "name": "stdout",
     "output_type": "stream",
     "text": [
      "                     0          1          2        3          4\n",
      "code_module                                                     \n",
      "AAA           resource  oucontent        url  forumng    subpage\n",
      "BBB           resource    subpage  oucontent  forumng        url\n",
      "CCC           resource  oucontent    subpage     quiz        url\n",
      "DDD           resource    subpage        url  forumng  oucontent\n",
      "EEE          oucontent   resource    subpage      url    forumng\n",
      "FFF                url   resource  oucontent  subpage       page\n",
      "GGG           resource  oucontent       quiz  subpage    forumng\n"
     ]
    },
    {
     "data": {
      "text/html": [
       "<div>\n",
       "<style scoped>\n",
       "    .dataframe tbody tr th:only-of-type {\n",
       "        vertical-align: middle;\n",
       "    }\n",
       "\n",
       "    .dataframe tbody tr th {\n",
       "        vertical-align: top;\n",
       "    }\n",
       "\n",
       "    .dataframe thead th {\n",
       "        text-align: right;\n",
       "    }\n",
       "</style>\n",
       "<table border=\"1\" class=\"dataframe\">\n",
       "  <thead>\n",
       "    <tr style=\"text-align: right;\">\n",
       "      <th></th>\n",
       "      <th>0</th>\n",
       "      <th>1</th>\n",
       "      <th>2</th>\n",
       "      <th>3</th>\n",
       "      <th>4</th>\n",
       "    </tr>\n",
       "    <tr>\n",
       "      <th>code_module</th>\n",
       "      <th></th>\n",
       "      <th></th>\n",
       "      <th></th>\n",
       "      <th></th>\n",
       "      <th></th>\n",
       "    </tr>\n",
       "  </thead>\n",
       "  <tbody>\n",
       "    <tr>\n",
       "      <th>AAA</th>\n",
       "      <td>True</td>\n",
       "      <td>True</td>\n",
       "      <td>True</td>\n",
       "      <td>True</td>\n",
       "      <td>True</td>\n",
       "    </tr>\n",
       "    <tr>\n",
       "      <th>BBB</th>\n",
       "      <td>True</td>\n",
       "      <td>True</td>\n",
       "      <td>True</td>\n",
       "      <td>True</td>\n",
       "      <td>True</td>\n",
       "    </tr>\n",
       "    <tr>\n",
       "      <th>CCC</th>\n",
       "      <td>True</td>\n",
       "      <td>True</td>\n",
       "      <td>True</td>\n",
       "      <td>False</td>\n",
       "      <td>True</td>\n",
       "    </tr>\n",
       "    <tr>\n",
       "      <th>DDD</th>\n",
       "      <td>True</td>\n",
       "      <td>True</td>\n",
       "      <td>True</td>\n",
       "      <td>True</td>\n",
       "      <td>True</td>\n",
       "    </tr>\n",
       "    <tr>\n",
       "      <th>EEE</th>\n",
       "      <td>True</td>\n",
       "      <td>True</td>\n",
       "      <td>True</td>\n",
       "      <td>True</td>\n",
       "      <td>True</td>\n",
       "    </tr>\n",
       "    <tr>\n",
       "      <th>FFF</th>\n",
       "      <td>True</td>\n",
       "      <td>True</td>\n",
       "      <td>True</td>\n",
       "      <td>True</td>\n",
       "      <td>False</td>\n",
       "    </tr>\n",
       "    <tr>\n",
       "      <th>GGG</th>\n",
       "      <td>True</td>\n",
       "      <td>True</td>\n",
       "      <td>False</td>\n",
       "      <td>True</td>\n",
       "      <td>True</td>\n",
       "    </tr>\n",
       "  </tbody>\n",
       "</table>\n",
       "</div>"
      ],
      "text/plain": [
       "                0     1      2      3      4\n",
       "code_module                                 \n",
       "AAA          True  True   True   True   True\n",
       "BBB          True  True   True   True   True\n",
       "CCC          True  True   True  False   True\n",
       "DDD          True  True   True   True   True\n",
       "EEE          True  True   True   True   True\n",
       "FFF          True  True   True   True  False\n",
       "GGG          True  True  False   True   True"
      ]
     },
     "execution_count": 32,
     "metadata": {},
     "output_type": "execute_result"
    }
   ],
   "source": [
    "top5_each_course = pd.DataFrame(pd.crosstab(moodle.code_module,\n",
    "                                moodle.activity_type).apply(lambda x: list(x.nlargest(n=5).index),\n",
    "                                                            axis=1))\n",
    "\n",
    "top5_each_course = top5_each_course.apply(lambda x: x.explode(str(x)).T,axis=1)\n",
    "print(top5_each_course)\n",
    "top5_each_course.isin(top5)"
   ]
  },
  {
   "cell_type": "markdown",
   "metadata": {},
   "source": [
    "**4:** total number of clicks per each course component type separately for each course and semester and for each student"
   ]
  },
  {
   "cell_type": "code",
   "execution_count": 33,
   "metadata": {},
   "outputs": [
    {
     "data": {
      "text/html": [
       "<div>\n",
       "<style scoped>\n",
       "    .dataframe tbody tr th:only-of-type {\n",
       "        vertical-align: middle;\n",
       "    }\n",
       "\n",
       "    .dataframe tbody tr th {\n",
       "        vertical-align: top;\n",
       "    }\n",
       "\n",
       "    .dataframe thead th {\n",
       "        text-align: right;\n",
       "    }\n",
       "</style>\n",
       "<table border=\"1\" class=\"dataframe\">\n",
       "  <thead>\n",
       "    <tr style=\"text-align: right;\">\n",
       "      <th>activity_type</th>\n",
       "      <th>id_student</th>\n",
       "      <th>code_module</th>\n",
       "      <th>code_presentation</th>\n",
       "      <th>dataplus</th>\n",
       "      <th>dualpane</th>\n",
       "      <th>externalquiz</th>\n",
       "      <th>folder</th>\n",
       "      <th>forumng</th>\n",
       "      <th>glossary</th>\n",
       "      <th>homepage</th>\n",
       "      <th>...</th>\n",
       "      <th>ouelluminate</th>\n",
       "      <th>ouwiki</th>\n",
       "      <th>page</th>\n",
       "      <th>questionnaire</th>\n",
       "      <th>quiz</th>\n",
       "      <th>repeatactivity</th>\n",
       "      <th>resource</th>\n",
       "      <th>sharedsubpage</th>\n",
       "      <th>subpage</th>\n",
       "      <th>url</th>\n",
       "    </tr>\n",
       "  </thead>\n",
       "  <tbody>\n",
       "    <tr>\n",
       "      <th>0</th>\n",
       "      <td>3733</td>\n",
       "      <td>DDD</td>\n",
       "      <td>2013J</td>\n",
       "      <td>NaN</td>\n",
       "      <td>NaN</td>\n",
       "      <td>7.0</td>\n",
       "      <td>NaN</td>\n",
       "      <td>16</td>\n",
       "      <td>1.0</td>\n",
       "      <td>1</td>\n",
       "      <td>...</td>\n",
       "      <td>NaN</td>\n",
       "      <td>4.0</td>\n",
       "      <td>NaN</td>\n",
       "      <td>NaN</td>\n",
       "      <td>NaN</td>\n",
       "      <td>NaN</td>\n",
       "      <td>178</td>\n",
       "      <td>NaN</td>\n",
       "      <td>194</td>\n",
       "      <td>44.0</td>\n",
       "    </tr>\n",
       "    <tr>\n",
       "      <th>1</th>\n",
       "      <td>6516</td>\n",
       "      <td>AAA</td>\n",
       "      <td>2014J</td>\n",
       "      <td>4.0</td>\n",
       "      <td>NaN</td>\n",
       "      <td>NaN</td>\n",
       "      <td>NaN</td>\n",
       "      <td>6</td>\n",
       "      <td>2.0</td>\n",
       "      <td>1</td>\n",
       "      <td>...</td>\n",
       "      <td>NaN</td>\n",
       "      <td>NaN</td>\n",
       "      <td>NaN</td>\n",
       "      <td>NaN</td>\n",
       "      <td>NaN</td>\n",
       "      <td>NaN</td>\n",
       "      <td>93</td>\n",
       "      <td>NaN</td>\n",
       "      <td>6</td>\n",
       "      <td>20.0</td>\n",
       "    </tr>\n",
       "    <tr>\n",
       "      <th>2</th>\n",
       "      <td>8462</td>\n",
       "      <td>DDD</td>\n",
       "      <td>2013J</td>\n",
       "      <td>NaN</td>\n",
       "      <td>NaN</td>\n",
       "      <td>7.0</td>\n",
       "      <td>NaN</td>\n",
       "      <td>16</td>\n",
       "      <td>1.0</td>\n",
       "      <td>1</td>\n",
       "      <td>...</td>\n",
       "      <td>NaN</td>\n",
       "      <td>4.0</td>\n",
       "      <td>NaN</td>\n",
       "      <td>NaN</td>\n",
       "      <td>NaN</td>\n",
       "      <td>NaN</td>\n",
       "      <td>178</td>\n",
       "      <td>NaN</td>\n",
       "      <td>194</td>\n",
       "      <td>44.0</td>\n",
       "    </tr>\n",
       "    <tr>\n",
       "      <th>3</th>\n",
       "      <td>8462</td>\n",
       "      <td>DDD</td>\n",
       "      <td>2014J</td>\n",
       "      <td>NaN</td>\n",
       "      <td>NaN</td>\n",
       "      <td>5.0</td>\n",
       "      <td>NaN</td>\n",
       "      <td>13</td>\n",
       "      <td>2.0</td>\n",
       "      <td>1</td>\n",
       "      <td>...</td>\n",
       "      <td>NaN</td>\n",
       "      <td>1.0</td>\n",
       "      <td>NaN</td>\n",
       "      <td>NaN</td>\n",
       "      <td>NaN</td>\n",
       "      <td>NaN</td>\n",
       "      <td>169</td>\n",
       "      <td>NaN</td>\n",
       "      <td>110</td>\n",
       "      <td>46.0</td>\n",
       "    </tr>\n",
       "    <tr>\n",
       "      <th>4</th>\n",
       "      <td>11391</td>\n",
       "      <td>AAA</td>\n",
       "      <td>2013J</td>\n",
       "      <td>4.0</td>\n",
       "      <td>NaN</td>\n",
       "      <td>NaN</td>\n",
       "      <td>NaN</td>\n",
       "      <td>15</td>\n",
       "      <td>2.0</td>\n",
       "      <td>1</td>\n",
       "      <td>...</td>\n",
       "      <td>NaN</td>\n",
       "      <td>NaN</td>\n",
       "      <td>NaN</td>\n",
       "      <td>NaN</td>\n",
       "      <td>NaN</td>\n",
       "      <td>NaN</td>\n",
       "      <td>95</td>\n",
       "      <td>NaN</td>\n",
       "      <td>6</td>\n",
       "      <td>18.0</td>\n",
       "    </tr>\n",
       "  </tbody>\n",
       "</table>\n",
       "<p>5 rows × 23 columns</p>\n",
       "</div>"
      ],
      "text/plain": [
       "activity_type  id_student code_module code_presentation  dataplus  dualpane  \\\n",
       "0                    3733         DDD             2013J       NaN       NaN   \n",
       "1                    6516         AAA             2014J       4.0       NaN   \n",
       "2                    8462         DDD             2013J       NaN       NaN   \n",
       "3                    8462         DDD             2014J       NaN       NaN   \n",
       "4                   11391         AAA             2013J       4.0       NaN   \n",
       "\n",
       "activity_type  externalquiz  folder  forumng  glossary  homepage  ...  \\\n",
       "0                       7.0     NaN       16       1.0         1  ...   \n",
       "1                       NaN     NaN        6       2.0         1  ...   \n",
       "2                       7.0     NaN       16       1.0         1  ...   \n",
       "3                       5.0     NaN       13       2.0         1  ...   \n",
       "4                       NaN     NaN       15       2.0         1  ...   \n",
       "\n",
       "activity_type  ouelluminate  ouwiki  page  questionnaire  quiz  \\\n",
       "0                       NaN     4.0   NaN            NaN   NaN   \n",
       "1                       NaN     NaN   NaN            NaN   NaN   \n",
       "2                       NaN     4.0   NaN            NaN   NaN   \n",
       "3                       NaN     1.0   NaN            NaN   NaN   \n",
       "4                       NaN     NaN   NaN            NaN   NaN   \n",
       "\n",
       "activity_type  repeatactivity  resource  sharedsubpage  subpage   url  \n",
       "0                         NaN       178            NaN      194  44.0  \n",
       "1                         NaN        93            NaN        6  20.0  \n",
       "2                         NaN       178            NaN      194  44.0  \n",
       "3                         NaN       169            NaN      110  46.0  \n",
       "4                         NaN        95            NaN        6  18.0  \n",
       "\n",
       "[5 rows x 23 columns]"
      ]
     },
     "execution_count": 33,
     "metadata": {},
     "output_type": "execute_result"
    }
   ],
   "source": [
    "clicks = registrations.loc[:,['id_student','code_module','code_presentation']].merge(moodle)\n",
    "\n",
    "clicks_count = pd.crosstab([clicks.id_student,clicks.code_module,clicks.code_presentation],\n",
    "                           clicks.activity_type).replace(0,np.nan).reset_index()\n",
    "clicks_count.head()"
   ]
  },
  {
   "cell_type": "markdown",
   "metadata": {},
   "source": [
    "**TASK5:** relationship between students' course performance and clicks on different resources."
   ]
  },
  {
   "cell_type": "markdown",
   "metadata": {},
   "source": [
    "All final results avarage is 11&#177;0.6"
   ]
  },
  {
   "cell_type": "code",
   "execution_count": 34,
   "metadata": {},
   "outputs": [
    {
     "data": {
      "text/html": [
       "<div>\n",
       "<style scoped>\n",
       "    .dataframe tbody tr th:only-of-type {\n",
       "        vertical-align: middle;\n",
       "    }\n",
       "\n",
       "    .dataframe tbody tr th {\n",
       "        vertical-align: top;\n",
       "    }\n",
       "\n",
       "    .dataframe thead th {\n",
       "        text-align: right;\n",
       "    }\n",
       "</style>\n",
       "<table border=\"1\" class=\"dataframe\">\n",
       "  <thead>\n",
       "    <tr style=\"text-align: right;\">\n",
       "      <th></th>\n",
       "      <th>id_student</th>\n",
       "      <th>activity_type_count_avg</th>\n",
       "    </tr>\n",
       "    <tr>\n",
       "      <th>final_result</th>\n",
       "      <th></th>\n",
       "      <th></th>\n",
       "    </tr>\n",
       "  </thead>\n",
       "  <tbody>\n",
       "    <tr>\n",
       "      <th>Distinction</th>\n",
       "      <td>753792.936177</td>\n",
       "      <td>11.060516</td>\n",
       "    </tr>\n",
       "    <tr>\n",
       "      <th>Fail</th>\n",
       "      <td>676653.519381</td>\n",
       "      <td>11.059634</td>\n",
       "    </tr>\n",
       "    <tr>\n",
       "      <th>Pass</th>\n",
       "      <td>709940.960197</td>\n",
       "      <td>10.964404</td>\n",
       "    </tr>\n",
       "    <tr>\n",
       "      <th>Withdrawn</th>\n",
       "      <td>709527.832268</td>\n",
       "      <td>11.053222</td>\n",
       "    </tr>\n",
       "  </tbody>\n",
       "</table>\n",
       "</div>"
      ],
      "text/plain": [
       "                 id_student  activity_type_count_avg\n",
       "final_result                                        \n",
       "Distinction   753792.936177                11.060516\n",
       "Fail          676653.519381                11.059634\n",
       "Pass          709940.960197                10.964404\n",
       "Withdrawn     709527.832268                11.053222"
      ]
     },
     "execution_count": 34,
     "metadata": {},
     "output_type": "execute_result"
    },
    {
     "data": {
      "image/png": "[encoded data removed]",
      "text/plain": [
       "<Figure size 432x288 with 1 Axes>"
      ]
     },
     "metadata": {
      "needs_background": "light"
     },
     "output_type": "display_data"
    }
   ],
   "source": [
    "activity_type_sum = pd.Series(clicks_count.drop(['id_student','code_module','code_presentation'],\n",
    "                                                axis=1).notna().sum(axis=1),name='activity_type_count_sum')\n",
    "\n",
    "data = pd.concat([registrations.loc[:,['id_student','final_result']],\n",
    "                  activity_type_sum],axis=1).groupby('final_result').mean().rename(columns={'activity_type_count_sum':\n",
    "                                                                                            'activity_type_count_avg'})\n",
    "\n",
    "sns.lineplot(data=data, x=\"final_result\", y=\"activity_type_count_avg\",marker=\"o\", linestyle='dashed')\n",
    "data"
   ]
  },
  {
   "cell_type": "markdown",
   "metadata": {},
   "source": [
    "## Predictive Modeling"
   ]
  },
  {
   "cell_type": "code",
   "execution_count": 35,
   "metadata": {
    "scrolled": true
   },
   "outputs": [
    {
     "name": "stdout",
     "output_type": "stream",
     "text": [
      "Pass           12361\n",
      "Withdrawn      10165\n",
      "Fail            7043\n",
      "Distinction     3024\n",
      "Name: final_result, dtype: int64\n",
      "Pass         15385\n",
      "Withdrawn    10165\n",
      "Fail          7043\n",
      "Name: final_result, dtype: int64\n"
     ]
    }
   ],
   "source": [
    "print(registrations.final_result.value_counts())\n",
    "#registrations.final_result.replace(['Distinction','Pass'],1,inplace=True)\n",
    "#registrations.final_result.replace(['Withdrawn','Fail'],0,inplace=True)\n",
    "\n",
    "registrations.final_result.replace('Distinction','Pass',inplace=True)\n",
    "\n",
    "print(registrations.final_result.value_counts())"
   ]
  },
  {
   "cell_type": "markdown",
   "metadata": {},
   "source": [
    "### Generate Features from Demographic Information"
   ]
  },
  {
   "cell_type": "markdown",
   "metadata": {},
   "source": [
    " dummy variables : \\\n",
    " code_module, code_presentation, gender, region, highest_education, imd_band, age_band, \n",
    "                   num_of_prev_attempts, disability, registration date category\n",
    "\n",
    "count =10"
   ]
  },
  {
   "cell_type": "code",
   "execution_count": 36,
   "metadata": {},
   "outputs": [
    {
     "name": "stdout",
     "output_type": "stream",
     "text": [
      "(32593, 12)\n"
     ]
    },
    {
     "data": {
      "text/html": [
       "<div>\n",
       "<style scoped>\n",
       "    .dataframe tbody tr th:only-of-type {\n",
       "        vertical-align: middle;\n",
       "    }\n",
       "\n",
       "    .dataframe tbody tr th {\n",
       "        vertical-align: top;\n",
       "    }\n",
       "\n",
       "    .dataframe thead th {\n",
       "        text-align: right;\n",
       "    }\n",
       "</style>\n",
       "<table border=\"1\" class=\"dataframe\">\n",
       "  <thead>\n",
       "    <tr style=\"text-align: right;\">\n",
       "      <th></th>\n",
       "      <th>highest_education_1_Lower Than A Level</th>\n",
       "      <th>highest_education_2_A Level or Equivalent</th>\n",
       "      <th>highest_education_3_HE Qualification</th>\n",
       "      <th>imd_band_0-20%</th>\n",
       "      <th>imd_band_20-40%</th>\n",
       "      <th>imd_band_40-60%</th>\n",
       "      <th>imd_band_60-80%</th>\n",
       "      <th>imd_band_80-100%</th>\n",
       "      <th>age_band_35&lt;=</th>\n",
       "      <th>age_band_35&gt;=</th>\n",
       "      <th>num_of_prev_attempts_0</th>\n",
       "      <th>num_of_prev_attempts_GT 1</th>\n",
       "    </tr>\n",
       "  </thead>\n",
       "  <tbody>\n",
       "    <tr>\n",
       "      <th>0</th>\n",
       "      <td>0</td>\n",
       "      <td>0</td>\n",
       "      <td>1</td>\n",
       "      <td>0</td>\n",
       "      <td>0</td>\n",
       "      <td>0</td>\n",
       "      <td>0</td>\n",
       "      <td>1</td>\n",
       "      <td>1</td>\n",
       "      <td>0</td>\n",
       "      <td>1</td>\n",
       "      <td>0</td>\n",
       "    </tr>\n",
       "    <tr>\n",
       "      <th>1</th>\n",
       "      <td>0</td>\n",
       "      <td>0</td>\n",
       "      <td>1</td>\n",
       "      <td>0</td>\n",
       "      <td>1</td>\n",
       "      <td>0</td>\n",
       "      <td>0</td>\n",
       "      <td>0</td>\n",
       "      <td>1</td>\n",
       "      <td>0</td>\n",
       "      <td>1</td>\n",
       "      <td>0</td>\n",
       "    </tr>\n",
       "    <tr>\n",
       "      <th>2</th>\n",
       "      <td>0</td>\n",
       "      <td>1</td>\n",
       "      <td>0</td>\n",
       "      <td>0</td>\n",
       "      <td>1</td>\n",
       "      <td>0</td>\n",
       "      <td>0</td>\n",
       "      <td>0</td>\n",
       "      <td>1</td>\n",
       "      <td>0</td>\n",
       "      <td>1</td>\n",
       "      <td>0</td>\n",
       "    </tr>\n",
       "    <tr>\n",
       "      <th>3</th>\n",
       "      <td>0</td>\n",
       "      <td>1</td>\n",
       "      <td>0</td>\n",
       "      <td>0</td>\n",
       "      <td>0</td>\n",
       "      <td>1</td>\n",
       "      <td>0</td>\n",
       "      <td>0</td>\n",
       "      <td>1</td>\n",
       "      <td>0</td>\n",
       "      <td>1</td>\n",
       "      <td>0</td>\n",
       "    </tr>\n",
       "    <tr>\n",
       "      <th>4</th>\n",
       "      <td>1</td>\n",
       "      <td>0</td>\n",
       "      <td>0</td>\n",
       "      <td>0</td>\n",
       "      <td>0</td>\n",
       "      <td>1</td>\n",
       "      <td>0</td>\n",
       "      <td>0</td>\n",
       "      <td>0</td>\n",
       "      <td>1</td>\n",
       "      <td>1</td>\n",
       "      <td>0</td>\n",
       "    </tr>\n",
       "  </tbody>\n",
       "</table>\n",
       "</div>"
      ],
      "text/plain": [
       "   highest_education_1_Lower Than A Level  \\\n",
       "0                                       0   \n",
       "1                                       0   \n",
       "2                                       0   \n",
       "3                                       0   \n",
       "4                                       1   \n",
       "\n",
       "   highest_education_2_A Level or Equivalent  \\\n",
       "0                                          0   \n",
       "1                                          0   \n",
       "2                                          1   \n",
       "3                                          1   \n",
       "4                                          0   \n",
       "\n",
       "   highest_education_3_HE Qualification  imd_band_0-20%  imd_band_20-40%  \\\n",
       "0                                     1               0                0   \n",
       "1                                     1               0                1   \n",
       "2                                     0               0                1   \n",
       "3                                     0               0                0   \n",
       "4                                     0               0                0   \n",
       "\n",
       "   imd_band_40-60%  imd_band_60-80%  imd_band_80-100%  age_band_35<=  \\\n",
       "0                0                0                 1              1   \n",
       "1                0                0                 0              1   \n",
       "2                0                0                 0              1   \n",
       "3                1                0                 0              1   \n",
       "4                1                0                 0              0   \n",
       "\n",
       "   age_band_35>=  num_of_prev_attempts_0  num_of_prev_attempts_GT 1  \n",
       "0              0                       1                          0  \n",
       "1              0                       1                          0  \n",
       "2              0                       1                          0  \n",
       "3              0                       1                          0  \n",
       "4              1                       1                          0  "
      ]
     },
     "execution_count": 36,
     "metadata": {},
     "output_type": "execute_result"
    }
   ],
   "source": [
    "dummy_vars = pd.get_dummies(student_info.loc[:,['highest_education','imd_band','age_band','num_of_prev_attempts']])\n",
    "print(dummy_vars.shape)\n",
    "dummy_vars.head()"
   ]
  },
  {
   "cell_type": "markdown",
   "metadata": {},
   "source": [
    "### Generate/Select Features from Click Data"
   ]
  },
  {
   "cell_type": "markdown",
   "metadata": {},
   "source": [
    "features indicating the engagement level of students at different course components"
   ]
  },
  {
   "cell_type": "code",
   "execution_count": 37,
   "metadata": {},
   "outputs": [
    {
     "name": "stdout",
     "output_type": "stream",
     "text": [
      "(32593, 2)\n"
     ]
    },
    {
     "data": {
      "text/html": [
       "<div>\n",
       "<style scoped>\n",
       "    .dataframe tbody tr th:only-of-type {\n",
       "        vertical-align: middle;\n",
       "    }\n",
       "\n",
       "    .dataframe tbody tr th {\n",
       "        vertical-align: top;\n",
       "    }\n",
       "\n",
       "    .dataframe thead th {\n",
       "        text-align: right;\n",
       "    }\n",
       "</style>\n",
       "<table border=\"1\" class=\"dataframe\">\n",
       "  <thead>\n",
       "    <tr style=\"text-align: right;\">\n",
       "      <th></th>\n",
       "      <th>id_student</th>\n",
       "      <th>feature1</th>\n",
       "    </tr>\n",
       "  </thead>\n",
       "  <tbody>\n",
       "    <tr>\n",
       "      <th>0</th>\n",
       "      <td>3733</td>\n",
       "      <td>46.200000</td>\n",
       "    </tr>\n",
       "    <tr>\n",
       "      <th>1</th>\n",
       "      <td>6516</td>\n",
       "      <td>22.444444</td>\n",
       "    </tr>\n",
       "    <tr>\n",
       "      <th>2</th>\n",
       "      <td>8462</td>\n",
       "      <td>46.200000</td>\n",
       "    </tr>\n",
       "    <tr>\n",
       "      <th>3</th>\n",
       "      <td>8462</td>\n",
       "      <td>36.500000</td>\n",
       "    </tr>\n",
       "    <tr>\n",
       "      <th>4</th>\n",
       "      <td>11391</td>\n",
       "      <td>23.444444</td>\n",
       "    </tr>\n",
       "  </tbody>\n",
       "</table>\n",
       "</div>"
      ],
      "text/plain": [
       "   id_student   feature1\n",
       "0        3733  46.200000\n",
       "1        6516  22.444444\n",
       "2        8462  46.200000\n",
       "3        8462  36.500000\n",
       "4       11391  23.444444"
      ]
     },
     "execution_count": 37,
     "metadata": {},
     "output_type": "execute_result"
    }
   ],
   "source": [
    "# each student's average number of clicks across all components per a single course and semester\n",
    "\n",
    "feature1 = clicks_count.drop(['id_student','code_module','code_presentation'],axis=1).mean(axis=1)\n",
    "feature1 = pd.concat([clicks_count.id_student,feature1],axis=1).rename(columns={0:'feature1'})\n",
    "\n",
    "print(feature1.shape)\n",
    "feature1.head()"
   ]
  },
  {
   "cell_type": "code",
   "execution_count": 38,
   "metadata": {},
   "outputs": [
    {
     "name": "stdout",
     "output_type": "stream",
     "text": [
      "(32593, 2)\n"
     ]
    },
    {
     "data": {
      "text/html": [
       "<div>\n",
       "<style scoped>\n",
       "    .dataframe tbody tr th:only-of-type {\n",
       "        vertical-align: middle;\n",
       "    }\n",
       "\n",
       "    .dataframe tbody tr th {\n",
       "        vertical-align: top;\n",
       "    }\n",
       "\n",
       "    .dataframe thead th {\n",
       "        text-align: right;\n",
       "    }\n",
       "</style>\n",
       "<table border=\"1\" class=\"dataframe\">\n",
       "  <thead>\n",
       "    <tr style=\"text-align: right;\">\n",
       "      <th></th>\n",
       "      <th>id_student</th>\n",
       "      <th>feature2</th>\n",
       "    </tr>\n",
       "  </thead>\n",
       "  <tbody>\n",
       "    <tr>\n",
       "      <th>0</th>\n",
       "      <td>3733</td>\n",
       "      <td>3</td>\n",
       "    </tr>\n",
       "    <tr>\n",
       "      <th>1</th>\n",
       "      <td>6516</td>\n",
       "      <td>2</td>\n",
       "    </tr>\n",
       "    <tr>\n",
       "      <th>2</th>\n",
       "      <td>8462</td>\n",
       "      <td>3</td>\n",
       "    </tr>\n",
       "    <tr>\n",
       "      <th>3</th>\n",
       "      <td>8462</td>\n",
       "      <td>3</td>\n",
       "    </tr>\n",
       "    <tr>\n",
       "      <th>4</th>\n",
       "      <td>11391</td>\n",
       "      <td>2</td>\n",
       "    </tr>\n",
       "  </tbody>\n",
       "</table>\n",
       "</div>"
      ],
      "text/plain": [
       "   id_student  feature2\n",
       "0        3733         3\n",
       "1        6516         2\n",
       "2        8462         3\n",
       "3        8462         3\n",
       "4       11391         2"
      ]
     },
     "execution_count": 38,
     "metadata": {},
     "output_type": "execute_result"
    }
   ],
   "source": [
    "# each student's activity type counts that clicks more than 30\n",
    "\n",
    "feature2 = pd.DataFrame(clicks_count.drop(['id_student','code_module','code_presentation'],axis=1) >30 ).sum(axis=1)\n",
    "feature2 = pd.concat([clicks_count.id_student,feature2],axis=1).rename(columns={0:'feature2'})\n",
    "\n",
    "print(feature2.shape)\n",
    "feature2.head()"
   ]
  },
  {
   "cell_type": "code",
   "execution_count": 39,
   "metadata": {},
   "outputs": [
    {
     "name": "stdout",
     "output_type": "stream",
     "text": [
      "(32593, 3)\n"
     ]
    },
    {
     "data": {
      "text/html": [
       "<div>\n",
       "<style scoped>\n",
       "    .dataframe tbody tr th:only-of-type {\n",
       "        vertical-align: middle;\n",
       "    }\n",
       "\n",
       "    .dataframe tbody tr th {\n",
       "        vertical-align: top;\n",
       "    }\n",
       "\n",
       "    .dataframe thead th {\n",
       "        text-align: right;\n",
       "    }\n",
       "</style>\n",
       "<table border=\"1\" class=\"dataframe\">\n",
       "  <thead>\n",
       "    <tr style=\"text-align: right;\">\n",
       "      <th></th>\n",
       "      <th>id_student</th>\n",
       "      <th>false</th>\n",
       "      <th>true</th>\n",
       "    </tr>\n",
       "  </thead>\n",
       "  <tbody>\n",
       "    <tr>\n",
       "      <th>0</th>\n",
       "      <td>3733</td>\n",
       "      <td>0</td>\n",
       "      <td>1</td>\n",
       "    </tr>\n",
       "    <tr>\n",
       "      <th>1</th>\n",
       "      <td>6516</td>\n",
       "      <td>1</td>\n",
       "      <td>0</td>\n",
       "    </tr>\n",
       "    <tr>\n",
       "      <th>2</th>\n",
       "      <td>8462</td>\n",
       "      <td>0</td>\n",
       "      <td>1</td>\n",
       "    </tr>\n",
       "    <tr>\n",
       "      <th>3</th>\n",
       "      <td>8462</td>\n",
       "      <td>0</td>\n",
       "      <td>1</td>\n",
       "    </tr>\n",
       "    <tr>\n",
       "      <th>4</th>\n",
       "      <td>11391</td>\n",
       "      <td>1</td>\n",
       "      <td>0</td>\n",
       "    </tr>\n",
       "  </tbody>\n",
       "</table>\n",
       "</div>"
      ],
      "text/plain": [
       "   id_student  false  true\n",
       "0        3733      0     1\n",
       "1        6516      1     0\n",
       "2        8462      0     1\n",
       "3        8462      0     1\n",
       "4       11391      1     0"
      ]
     },
     "execution_count": 39,
     "metadata": {},
     "output_type": "execute_result"
    }
   ],
   "source": [
    "# a dummy variable indicating if students clicked at least 9 course components or not\n",
    "\n",
    "feature3 = pd.get_dummies(clicks_count.drop(['id_student','code_module','code_presentation'],axis=1)\\\n",
    "                          .notna().sum(axis=1) > 9).rename(columns={True:'true',False:'false'})\n",
    "\n",
    "feature3 = pd.concat([clicks_count.id_student,feature3],axis=1)\n",
    "\n",
    "print(feature3.shape)\n",
    "feature3.head()"
   ]
  },
  {
   "cell_type": "markdown",
   "metadata": {},
   "source": [
    "I have trouble when I use .merge() and, I use concat because all features student id is same. "
   ]
  },
  {
   "cell_type": "code",
   "execution_count": 40,
   "metadata": {},
   "outputs": [
    {
     "data": {
      "text/plain": [
       "1and2    32593\n",
       "1and3    32593\n",
       "dtype: int64"
      ]
     },
     "execution_count": 40,
     "metadata": {},
     "output_type": "execute_result"
    }
   ],
   "source": [
    "pd.DataFrame({'1and2':(feature1.id_student == feature2.id_student),\n",
    "              '1and3':(feature1.id_student == feature3.id_student)}).sum()"
   ]
  },
  {
   "cell_type": "code",
   "execution_count": 41,
   "metadata": {},
   "outputs": [
    {
     "name": "stdout",
     "output_type": "stream",
     "text": [
      "(32593, 5)\n"
     ]
    },
    {
     "data": {
      "text/html": [
       "<div>\n",
       "<style scoped>\n",
       "    .dataframe tbody tr th:only-of-type {\n",
       "        vertical-align: middle;\n",
       "    }\n",
       "\n",
       "    .dataframe tbody tr th {\n",
       "        vertical-align: top;\n",
       "    }\n",
       "\n",
       "    .dataframe thead th {\n",
       "        text-align: right;\n",
       "    }\n",
       "</style>\n",
       "<table border=\"1\" class=\"dataframe\">\n",
       "  <thead>\n",
       "    <tr style=\"text-align: right;\">\n",
       "      <th></th>\n",
       "      <th>id_student</th>\n",
       "      <th>feature1</th>\n",
       "      <th>feature2</th>\n",
       "      <th>false</th>\n",
       "      <th>true</th>\n",
       "    </tr>\n",
       "  </thead>\n",
       "  <tbody>\n",
       "    <tr>\n",
       "      <th>0</th>\n",
       "      <td>3733</td>\n",
       "      <td>46.200000</td>\n",
       "      <td>3</td>\n",
       "      <td>0</td>\n",
       "      <td>1</td>\n",
       "    </tr>\n",
       "    <tr>\n",
       "      <th>1</th>\n",
       "      <td>6516</td>\n",
       "      <td>22.444444</td>\n",
       "      <td>2</td>\n",
       "      <td>1</td>\n",
       "      <td>0</td>\n",
       "    </tr>\n",
       "    <tr>\n",
       "      <th>2</th>\n",
       "      <td>8462</td>\n",
       "      <td>46.200000</td>\n",
       "      <td>3</td>\n",
       "      <td>0</td>\n",
       "      <td>1</td>\n",
       "    </tr>\n",
       "    <tr>\n",
       "      <th>3</th>\n",
       "      <td>8462</td>\n",
       "      <td>36.500000</td>\n",
       "      <td>3</td>\n",
       "      <td>0</td>\n",
       "      <td>1</td>\n",
       "    </tr>\n",
       "    <tr>\n",
       "      <th>4</th>\n",
       "      <td>11391</td>\n",
       "      <td>23.444444</td>\n",
       "      <td>2</td>\n",
       "      <td>1</td>\n",
       "      <td>0</td>\n",
       "    </tr>\n",
       "  </tbody>\n",
       "</table>\n",
       "</div>"
      ],
      "text/plain": [
       "   id_student   feature1  feature2  false  true\n",
       "0        3733  46.200000         3      0     1\n",
       "1        6516  22.444444         2      1     0\n",
       "2        8462  46.200000         3      0     1\n",
       "3        8462  36.500000         3      0     1\n",
       "4       11391  23.444444         2      1     0"
      ]
     },
     "execution_count": 41,
     "metadata": {},
     "output_type": "execute_result"
    }
   ],
   "source": [
    "features = pd.concat([feature1,feature2.drop(['id_student'],axis=1),feature3.drop(['id_student'],axis=1)],axis=1)\n",
    "\n",
    "print(features.shape)\n",
    "features.head()"
   ]
  },
  {
   "cell_type": "markdown",
   "metadata": {},
   "source": [
    "### 2.3. Training and Testing the Model"
   ]
  },
  {
   "cell_type": "markdown",
   "metadata": {},
   "source": [
    "train and test a logistic regression model for predicting students' final course status. 10-fold cross-validation."
   ]
  },
  {
   "cell_type": "code",
   "execution_count": 42,
   "metadata": {
    "scrolled": true
   },
   "outputs": [],
   "source": [
    "X = pd.concat([dummy_vars,features.drop(['id_student'],axis=1)],axis=1)\n",
    "y = registrations.final_result"
   ]
  },
  {
   "cell_type": "code",
   "execution_count": 43,
   "metadata": {},
   "outputs": [
    {
     "name": "stdout",
     "output_type": "stream",
     "text": [
      "24444 8149\n"
     ]
    }
   ],
   "source": [
    "X_train, X_test, y_train, y_test = sklearn.model_selection.train_test_split(X,y, random_state=0)\n",
    "print(len(X_train), len(X_test))"
   ]
  },
  {
   "cell_type": "code",
   "execution_count": 44,
   "metadata": {
    "scrolled": true
   },
   "outputs": [
    {
     "data": {
      "text/plain": [
       "0.43882684992023563"
      ]
     },
     "execution_count": 44,
     "metadata": {},
     "output_type": "execute_result"
    }
   ],
   "source": [
    "knn_classifier = sklearn.neighbors.KNeighborsClassifier(n_neighbors=10)\n",
    "knn_classifier.fit(X_train,y_train)\n",
    "knn_classifier.score(X_test,y_test)"
   ]
  },
  {
   "cell_type": "code",
   "execution_count": 45,
   "metadata": {},
   "outputs": [
    {
     "name": "stdout",
     "output_type": "stream",
     "text": [
      "[0.45460123 0.44233129 0.43282209 0.43540963 0.42804541 0.4409328\n",
      " 0.42620436 0.43295489 0.44921755 0.44492176]\n",
      "Accuracy: 0.44 (+/- 0.01)\n"
     ]
    }
   ],
   "source": [
    "scores = cross_val_score(knn_classifier, X, y, cv=10)\n",
    "print(scores)\n",
    "print('Accuracy: %0.2f (+/- %0.2f)' % (scores.mean(), scores.std())) "
   ]
  },
  {
   "cell_type": "code",
   "execution_count": 46,
   "metadata": {},
   "outputs": [
    {
     "name": "stdout",
     "output_type": "stream",
     "text": [
      "21837 10756\n",
      "accuracy: 0.4894942357753812\n"
     ]
    }
   ],
   "source": [
    "X_train, X_test, y_train, y_test = sklearn.model_selection.train_test_split(X,y, random_state=0, test_size=0.33)\n",
    "print(len(X_train), len(X_test))\n",
    "\n",
    "classifier = sklearn.linear_model.LogisticRegression(penalty='l1', solver='liblinear', tol=0.05, random_state=0)\n",
    "classifier.fit(X_train,y_train)\n",
    "\n",
    "predicted = classifier.predict(X_test)\n",
    "print('accuracy:',sklearn.metrics.accuracy_score(y_test,predicted))"
   ]
  },
  {
   "cell_type": "code",
   "execution_count": 47,
   "metadata": {},
   "outputs": [
    {
     "name": "stdout",
     "output_type": "stream",
     "text": [
      "LOGISTIC---------------------------------------------------------------\n",
      "Classification report for classifier LogisticRegression(penalty='l1', random_state=0, solver='liblinear', tol=0.05):\n",
      "              precision    recall  f1-score   support\n",
      "\n",
      "        Fail       0.33      0.02      0.04      2304\n",
      "        Pass       0.51      0.89      0.65      5125\n",
      "   Withdrawn       0.38      0.20      0.26      3327\n",
      "\n",
      "    accuracy                           0.49     10756\n",
      "   macro avg       0.41      0.37      0.32     10756\n",
      "weighted avg       0.43      0.49      0.40     10756\n",
      "\n",
      "\n"
     ]
    },
    {
     "data": {
      "text/html": [
       "<div>\n",
       "<style scoped>\n",
       "    .dataframe tbody tr th:only-of-type {\n",
       "        vertical-align: middle;\n",
       "    }\n",
       "\n",
       "    .dataframe tbody tr th {\n",
       "        vertical-align: top;\n",
       "    }\n",
       "\n",
       "    .dataframe thead th {\n",
       "        text-align: right;\n",
       "    }\n",
       "</style>\n",
       "<table border=\"1\" class=\"dataframe\">\n",
       "  <thead>\n",
       "    <tr style=\"text-align: right;\">\n",
       "      <th></th>\n",
       "      <th>Fail</th>\n",
       "      <th>Pass</th>\n",
       "      <th>Whithdrawn</th>\n",
       "    </tr>\n",
       "  </thead>\n",
       "  <tbody>\n",
       "    <tr>\n",
       "      <th>Fail</th>\n",
       "      <td>52</td>\n",
       "      <td>1706</td>\n",
       "      <td>546</td>\n",
       "    </tr>\n",
       "    <tr>\n",
       "      <th>Pass</th>\n",
       "      <td>36</td>\n",
       "      <td>4541</td>\n",
       "      <td>548</td>\n",
       "    </tr>\n",
       "    <tr>\n",
       "      <th>Whithdrawn</th>\n",
       "      <td>72</td>\n",
       "      <td>2583</td>\n",
       "      <td>672</td>\n",
       "    </tr>\n",
       "  </tbody>\n",
       "</table>\n",
       "</div>"
      ],
      "text/plain": [
       "            Fail  Pass  Whithdrawn\n",
       "Fail          52  1706         546\n",
       "Pass          36  4541         548\n",
       "Whithdrawn    72  2583         672"
      ]
     },
     "execution_count": 47,
     "metadata": {},
     "output_type": "execute_result"
    }
   ],
   "source": [
    "print('LOGISTIC---------------------------------------------------------------')\n",
    "print('Classification report for classifier %s:\\n%s\\n'\n",
    "    %( classifier, sklearn.metrics.classification_report(y_test, predicted))) \n",
    "\n",
    "Confusion_matrix = pd.DataFrame(sklearn.metrics.confusion_matrix(y_test, predicted))\n",
    "Confusion_matrix.index = ['Fail','Pass','Whithdrawn']\n",
    "Confusion_matrix.columns = ['Fail','Pass','Whithdrawn']\n",
    "Confusion_matrix"
   ]
  },
  {
   "cell_type": "code",
   "execution_count": 48,
   "metadata": {},
   "outputs": [
    {
     "data": {
      "text/html": [
       "<div>\n",
       "<style scoped>\n",
       "    .dataframe tbody tr th:only-of-type {\n",
       "        vertical-align: middle;\n",
       "    }\n",
       "\n",
       "    .dataframe tbody tr th {\n",
       "        vertical-align: top;\n",
       "    }\n",
       "\n",
       "    .dataframe thead th {\n",
       "        text-align: right;\n",
       "    }\n",
       "</style>\n",
       "<table border=\"1\" class=\"dataframe\">\n",
       "  <thead>\n",
       "    <tr style=\"text-align: right;\">\n",
       "      <th></th>\n",
       "      <th>coef_</th>\n",
       "      <th>feature</th>\n",
       "    </tr>\n",
       "  </thead>\n",
       "  <tbody>\n",
       "    <tr>\n",
       "      <th>11</th>\n",
       "      <td>0.475769</td>\n",
       "      <td>num_of_prev_attempts_GT 1</td>\n",
       "    </tr>\n",
       "    <tr>\n",
       "      <th>0</th>\n",
       "      <td>0.060600</td>\n",
       "      <td>highest_education_1_Lower Than A Level</td>\n",
       "    </tr>\n",
       "    <tr>\n",
       "      <th>13</th>\n",
       "      <td>0.039436</td>\n",
       "      <td>feature2</td>\n",
       "    </tr>\n",
       "    <tr>\n",
       "      <th>12</th>\n",
       "      <td>-0.001989</td>\n",
       "      <td>feature1</td>\n",
       "    </tr>\n",
       "    <tr>\n",
       "      <th>15</th>\n",
       "      <td>-0.033705</td>\n",
       "      <td>true</td>\n",
       "    </tr>\n",
       "    <tr>\n",
       "      <th>14</th>\n",
       "      <td>-0.056563</td>\n",
       "      <td>false</td>\n",
       "    </tr>\n",
       "    <tr>\n",
       "      <th>10</th>\n",
       "      <td>-0.135317</td>\n",
       "      <td>num_of_prev_attempts_0</td>\n",
       "    </tr>\n",
       "    <tr>\n",
       "      <th>3</th>\n",
       "      <td>-0.237890</td>\n",
       "      <td>imd_band_0-20%</td>\n",
       "    </tr>\n",
       "    <tr>\n",
       "      <th>1</th>\n",
       "      <td>-0.261317</td>\n",
       "      <td>highest_education_2_A Level or Equivalent</td>\n",
       "    </tr>\n",
       "    <tr>\n",
       "      <th>2</th>\n",
       "      <td>-0.405301</td>\n",
       "      <td>highest_education_3_HE Qualification</td>\n",
       "    </tr>\n",
       "    <tr>\n",
       "      <th>5</th>\n",
       "      <td>-0.455281</td>\n",
       "      <td>imd_band_40-60%</td>\n",
       "    </tr>\n",
       "    <tr>\n",
       "      <th>4</th>\n",
       "      <td>-0.461737</td>\n",
       "      <td>imd_band_20-40%</td>\n",
       "    </tr>\n",
       "    <tr>\n",
       "      <th>9</th>\n",
       "      <td>-0.496362</td>\n",
       "      <td>age_band_35&gt;=</td>\n",
       "    </tr>\n",
       "    <tr>\n",
       "      <th>6</th>\n",
       "      <td>-0.563632</td>\n",
       "      <td>imd_band_60-80%</td>\n",
       "    </tr>\n",
       "    <tr>\n",
       "      <th>8</th>\n",
       "      <td>-0.698294</td>\n",
       "      <td>age_band_35&lt;=</td>\n",
       "    </tr>\n",
       "    <tr>\n",
       "      <th>7</th>\n",
       "      <td>-0.767978</td>\n",
       "      <td>imd_band_80-100%</td>\n",
       "    </tr>\n",
       "  </tbody>\n",
       "</table>\n",
       "</div>"
      ],
      "text/plain": [
       "       coef_                                    feature\n",
       "11  0.475769                  num_of_prev_attempts_GT 1\n",
       "0   0.060600     highest_education_1_Lower Than A Level\n",
       "13  0.039436                                   feature2\n",
       "12 -0.001989                                   feature1\n",
       "15 -0.033705                                       true\n",
       "14 -0.056563                                      false\n",
       "10 -0.135317                     num_of_prev_attempts_0\n",
       "3  -0.237890                             imd_band_0-20%\n",
       "1  -0.261317  highest_education_2_A Level or Equivalent\n",
       "2  -0.405301       highest_education_3_HE Qualification\n",
       "5  -0.455281                            imd_band_40-60%\n",
       "4  -0.461737                            imd_band_20-40%\n",
       "9  -0.496362                              age_band_35>=\n",
       "6  -0.563632                            imd_band_60-80%\n",
       "8  -0.698294                              age_band_35<=\n",
       "7  -0.767978                           imd_band_80-100%"
      ]
     },
     "execution_count": 48,
     "metadata": {},
     "output_type": "execute_result"
    }
   ],
   "source": [
    "feature_importance = pd.DataFrame()\n",
    "feature_importance['coef_'] = pd.DataFrame(data={'coef_': classifier.coef_[0]})[['coef_']]\n",
    "feature_importance['feature'] = X.columns\n",
    "feature_importance.sort_values('coef_',ascending=False)"
   ]
  },
  {
   "cell_type": "code",
   "execution_count": 49,
   "metadata": {},
   "outputs": [
    {
     "name": "stdout",
     "output_type": "stream",
     "text": [
      "[[0.1456244  0.61628609 0.23808952]\n",
      " [0.2310239  0.44901415 0.31996196]\n",
      " [0.22104397 0.43165207 0.34730396]\n",
      " [0.19475089 0.50879384 0.29645526]\n",
      " [0.16891632 0.57288226 0.25820142]\n",
      " [0.12712953 0.65627362 0.21659684]\n",
      " [0.22792207 0.43725096 0.33482697]\n",
      " [0.19121498 0.52521811 0.28356691]\n",
      " [0.12372396 0.66134024 0.2149358 ]\n",
      " [0.22987866 0.44178437 0.32833697]]\n"
     ]
    }
   ],
   "source": [
    "probas_ = classifier.predict_proba(X_test)\n",
    "print(probas_[:10])"
   ]
  },
  {
   "cell_type": "code",
   "execution_count": 50,
   "metadata": {},
   "outputs": [
    {
     "name": "stdout",
     "output_type": "stream",
     "text": [
      "(10756, 16)\n"
     ]
    },
    {
     "data": {
      "text/html": [
       "<div>\n",
       "<style scoped>\n",
       "    .dataframe tbody tr th:only-of-type {\n",
       "        vertical-align: middle;\n",
       "    }\n",
       "\n",
       "    .dataframe tbody tr th {\n",
       "        vertical-align: top;\n",
       "    }\n",
       "\n",
       "    .dataframe thead th {\n",
       "        text-align: right;\n",
       "    }\n",
       "</style>\n",
       "<table border=\"1\" class=\"dataframe\">\n",
       "  <thead>\n",
       "    <tr style=\"text-align: right;\">\n",
       "      <th></th>\n",
       "      <th>highest_education_1_Lower Than A Level</th>\n",
       "      <th>highest_education_2_A Level or Equivalent</th>\n",
       "      <th>highest_education_3_HE Qualification</th>\n",
       "      <th>imd_band_0-20%</th>\n",
       "      <th>imd_band_20-40%</th>\n",
       "      <th>imd_band_40-60%</th>\n",
       "      <th>imd_band_60-80%</th>\n",
       "      <th>imd_band_80-100%</th>\n",
       "      <th>age_band_35&lt;=</th>\n",
       "      <th>age_band_35&gt;=</th>\n",
       "      <th>num_of_prev_attempts_0</th>\n",
       "      <th>num_of_prev_attempts_GT 1</th>\n",
       "      <th>feature1</th>\n",
       "      <th>feature2</th>\n",
       "      <th>false</th>\n",
       "      <th>true</th>\n",
       "    </tr>\n",
       "  </thead>\n",
       "  <tbody>\n",
       "    <tr>\n",
       "      <th>3431</th>\n",
       "      <td>0</td>\n",
       "      <td>0</td>\n",
       "      <td>1</td>\n",
       "      <td>0</td>\n",
       "      <td>0</td>\n",
       "      <td>1</td>\n",
       "      <td>0</td>\n",
       "      <td>0</td>\n",
       "      <td>1</td>\n",
       "      <td>0</td>\n",
       "      <td>1</td>\n",
       "      <td>0</td>\n",
       "      <td>38.909091</td>\n",
       "      <td>3</td>\n",
       "      <td>0</td>\n",
       "      <td>1</td>\n",
       "    </tr>\n",
       "    <tr>\n",
       "      <th>26458</th>\n",
       "      <td>1</td>\n",
       "      <td>0</td>\n",
       "      <td>0</td>\n",
       "      <td>0</td>\n",
       "      <td>0</td>\n",
       "      <td>0</td>\n",
       "      <td>1</td>\n",
       "      <td>0</td>\n",
       "      <td>0</td>\n",
       "      <td>1</td>\n",
       "      <td>1</td>\n",
       "      <td>0</td>\n",
       "      <td>24.777778</td>\n",
       "      <td>3</td>\n",
       "      <td>1</td>\n",
       "      <td>0</td>\n",
       "    </tr>\n",
       "    <tr>\n",
       "      <th>4137</th>\n",
       "      <td>1</td>\n",
       "      <td>0</td>\n",
       "      <td>0</td>\n",
       "      <td>0</td>\n",
       "      <td>1</td>\n",
       "      <td>0</td>\n",
       "      <td>0</td>\n",
       "      <td>0</td>\n",
       "      <td>1</td>\n",
       "      <td>0</td>\n",
       "      <td>1</td>\n",
       "      <td>0</td>\n",
       "      <td>36.285714</td>\n",
       "      <td>4</td>\n",
       "      <td>0</td>\n",
       "      <td>1</td>\n",
       "    </tr>\n",
       "    <tr>\n",
       "      <th>281</th>\n",
       "      <td>1</td>\n",
       "      <td>0</td>\n",
       "      <td>0</td>\n",
       "      <td>0</td>\n",
       "      <td>0</td>\n",
       "      <td>0</td>\n",
       "      <td>1</td>\n",
       "      <td>0</td>\n",
       "      <td>1</td>\n",
       "      <td>0</td>\n",
       "      <td>1</td>\n",
       "      <td>0</td>\n",
       "      <td>31.500000</td>\n",
       "      <td>2</td>\n",
       "      <td>0</td>\n",
       "      <td>1</td>\n",
       "    </tr>\n",
       "    <tr>\n",
       "      <th>32525</th>\n",
       "      <td>0</td>\n",
       "      <td>1</td>\n",
       "      <td>0</td>\n",
       "      <td>0</td>\n",
       "      <td>0</td>\n",
       "      <td>1</td>\n",
       "      <td>0</td>\n",
       "      <td>0</td>\n",
       "      <td>1</td>\n",
       "      <td>0</td>\n",
       "      <td>1</td>\n",
       "      <td>0</td>\n",
       "      <td>31.866667</td>\n",
       "      <td>4</td>\n",
       "      <td>0</td>\n",
       "      <td>1</td>\n",
       "    </tr>\n",
       "  </tbody>\n",
       "</table>\n",
       "</div>"
      ],
      "text/plain": [
       "       highest_education_1_Lower Than A Level  \\\n",
       "3431                                        0   \n",
       "26458                                       1   \n",
       "4137                                        1   \n",
       "281                                         1   \n",
       "32525                                       0   \n",
       "\n",
       "       highest_education_2_A Level or Equivalent  \\\n",
       "3431                                           0   \n",
       "26458                                          0   \n",
       "4137                                           0   \n",
       "281                                            0   \n",
       "32525                                          1   \n",
       "\n",
       "       highest_education_3_HE Qualification  imd_band_0-20%  imd_band_20-40%  \\\n",
       "3431                                      1               0                0   \n",
       "26458                                     0               0                0   \n",
       "4137                                      0               0                1   \n",
       "281                                       0               0                0   \n",
       "32525                                     0               0                0   \n",
       "\n",
       "       imd_band_40-60%  imd_band_60-80%  imd_band_80-100%  age_band_35<=  \\\n",
       "3431                 1                0                 0              1   \n",
       "26458                0                1                 0              0   \n",
       "4137                 0                0                 0              1   \n",
       "281                  0                1                 0              1   \n",
       "32525                1                0                 0              1   \n",
       "\n",
       "       age_band_35>=  num_of_prev_attempts_0  num_of_prev_attempts_GT 1  \\\n",
       "3431               0                       1                          0   \n",
       "26458              1                       1                          0   \n",
       "4137               0                       1                          0   \n",
       "281                0                       1                          0   \n",
       "32525              0                       1                          0   \n",
       "\n",
       "        feature1  feature2  false  true  \n",
       "3431   38.909091         3      0     1  \n",
       "26458  24.777778         3      1     0  \n",
       "4137   36.285714         4      0     1  \n",
       "281    31.500000         2      0     1  \n",
       "32525  31.866667         4      0     1  "
      ]
     },
     "execution_count": 50,
     "metadata": {},
     "output_type": "execute_result"
    }
   ],
   "source": [
    "print(X_test.shape)\n",
    "X_test.head()"
   ]
  },
  {
   "cell_type": "code",
   "execution_count": 51,
   "metadata": {},
   "outputs": [
    {
     "name": "stdout",
     "output_type": "stream",
     "text": [
      "[0.0, 0.0, 1.0, 0.0, 0.0, 1.0, 0.0, 0.0, 1.0, 0.0, 1.0, 0.0, 38.90909090909091, 3.0, 0.0, 1.0]\n"
     ]
    }
   ],
   "source": [
    "feature_scores_3431 = X_test.loc[3431,:].tolist()\n",
    "print(feature_scores_3431)"
   ]
  },
  {
   "cell_type": "code",
   "execution_count": 52,
   "metadata": {},
   "outputs": [
    {
     "data": {
      "text/plain": [
       "array([0.14541993, 0.15620114, 0.13716778])"
      ]
     },
     "execution_count": 52,
     "metadata": {},
     "output_type": "execute_result"
    }
   ],
   "source": [
    "logistic.cdf(np.dot(feature_scores_3431,classifier.coef_[0]) + classifier.intercept_)"
   ]
  }
 ],
 "metadata": {
  "kernelspec": {
   "display_name": "Python 3 (ipykernel)",
   "language": "python",
   "name": "python3"
  },
  "language_info": {
   "codemirror_mode": {
    "name": "ipython",
    "version": 3
   },
   "file_extension": ".py",
   "mimetype": "text/x-python",
   "name": "python",
   "nbconvert_exporter": "python",
   "pygments_lexer": "ipython3",
   "version": "3.10.2"
  }
 },
 "nbformat": 4,
 "nbformat_minor": 2
}
